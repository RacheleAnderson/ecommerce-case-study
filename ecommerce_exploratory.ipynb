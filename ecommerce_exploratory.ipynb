{
 "cells": [
  {
   "cell_type": "markdown",
   "id": "3e28fdd6-6ea6-4c88-9ae6-2d4912d3c4fd",
   "metadata": {},
   "source": [
    "# Data Science for E-Commerce\n",
    "This code is divided in three notebooks: \n",
    "- Exploratory analysis: ecommerce_exploratory.ipynb\n",
    "- Sales predictions: ecommmerce_SARIMA.ipynb, with auxiliary function preprocess_data.py\n",
    "- Insights from the data: ecommerce_insights.ipynb\n",
    "\n",
    "This is the first part containing the exploratory analysis."
   ]
  },
  {
   "cell_type": "markdown",
   "id": "446039ca-f779-46a9-bbba-0b8e3d1b1492",
   "metadata": {},
   "source": [
    "## Data exploration and cleaning\n",
    "#### Import libraries and read data"
   ]
  },
  {
   "cell_type": "code",
   "execution_count": 1,
   "id": "e26480c9-7999-442c-8e8d-68e961efdc16",
   "metadata": {},
   "outputs": [],
   "source": [
    "# import libraries\n",
    "import warnings\n",
    "warnings.simplefilter(action='ignore', category=FutureWarning)\n",
    "import pandas as pd\n",
    "import numpy as np\n",
    "\n",
    "import matplotlib.pyplot as plt\n",
    "from matplotlib.ticker import PercentFormatter\n",
    "%matplotlib inline\n",
    "import seaborn as sns\n",
    "\n",
    "from scipy import stats\n",
    "import statsmodels.api as sm\n",
    "from statsmodels.tsa.arima.model import ARIMA\n",
    "from statsmodels.graphics.api import qqplot\n",
    "from statsmodels.graphics.tsaplots import plot_acf, plot_pacf\n",
    "from statsmodels.tsa.stattools import adfuller"
   ]
  },
  {
   "cell_type": "code",
   "execution_count": 2,
   "id": "c62f520d-dff0-48a6-bcd8-0ec318df2c65",
   "metadata": {},
   "outputs": [
    {
     "data": {
      "text/plain": [
       "(130000, 10)"
      ]
     },
     "execution_count": 2,
     "metadata": {},
     "output_type": "execute_result"
    }
   ],
   "source": [
    "# Read dataset \n",
    "data = pd.read_csv('ecommerce_data.csv')\n",
    "data.shape"
   ]
  },
  {
   "cell_type": "code",
   "execution_count": 3,
   "id": "a9757df0-e4cd-4085-8386-f95be03cf72b",
   "metadata": {},
   "outputs": [
    {
     "name": "stdout",
     "output_type": "stream",
     "text": [
      "<class 'pandas.core.frame.DataFrame'>\n",
      "RangeIndex: 130000 entries, 0 to 129999\n",
      "Data columns (total 10 columns):\n",
      " #   Column         Non-Null Count   Dtype  \n",
      "---  ------         --------------   -----  \n",
      " 0   InvoiceDate    130000 non-null  object \n",
      " 1   InvoiceNo      130000 non-null  object \n",
      " 2   StockCode      6646 non-null    object \n",
      " 3   Description    3693 non-null    object \n",
      " 4   Quantity       10426 non-null   float64\n",
      " 5   InvoiceDate.1  130000 non-null  object \n",
      " 6   UnitPrice      130000 non-null  float64\n",
      " 7   CustomerID     125418 non-null  float64\n",
      " 8   Country        130000 non-null  object \n",
      " 9   Estore_id      130000 non-null  int64  \n",
      "dtypes: float64(3), int64(1), object(6)\n",
      "memory usage: 9.9+ MB\n"
     ]
    }
   ],
   "source": [
    "data.info()"
   ]
  },
  {
   "cell_type": "code",
   "execution_count": 4,
   "id": "b04ba032-790e-48c2-ad1a-344013684ed1",
   "metadata": {},
   "outputs": [
    {
     "data": {
      "text/html": [
       "<div>\n",
       "<style scoped>\n",
       "    .dataframe tbody tr th:only-of-type {\n",
       "        vertical-align: middle;\n",
       "    }\n",
       "\n",
       "    .dataframe tbody tr th {\n",
       "        vertical-align: top;\n",
       "    }\n",
       "\n",
       "    .dataframe thead th {\n",
       "        text-align: right;\n",
       "    }\n",
       "</style>\n",
       "<table border=\"1\" class=\"dataframe\">\n",
       "  <thead>\n",
       "    <tr style=\"text-align: right;\">\n",
       "      <th></th>\n",
       "      <th>InvoiceDate</th>\n",
       "      <th>InvoiceNo</th>\n",
       "      <th>StockCode</th>\n",
       "      <th>Description</th>\n",
       "      <th>Quantity</th>\n",
       "      <th>InvoiceDate.1</th>\n",
       "      <th>UnitPrice</th>\n",
       "      <th>CustomerID</th>\n",
       "      <th>Country</th>\n",
       "      <th>EstoreID</th>\n",
       "    </tr>\n",
       "  </thead>\n",
       "  <tbody>\n",
       "    <tr>\n",
       "      <th>0</th>\n",
       "      <td>2010-12-09 15:43:00</td>\n",
       "      <td>C538124</td>\n",
       "      <td>22699</td>\n",
       "      <td>ROSES REGENCY TEACUP AND SAUCER</td>\n",
       "      <td>-1.0</td>\n",
       "      <td>2010-12-09 15:43:00</td>\n",
       "      <td>2.95</td>\n",
       "      <td>15329.0</td>\n",
       "      <td>United Kingdom</td>\n",
       "      <td>20</td>\n",
       "    </tr>\n",
       "    <tr>\n",
       "      <th>1</th>\n",
       "      <td>2011-12-09 09:07:00</td>\n",
       "      <td>581480</td>\n",
       "      <td>23355</td>\n",
       "      <td>HOT WATER BOTTLE KEEP CALM</td>\n",
       "      <td>12.0</td>\n",
       "      <td>2011-12-09 09:07:00</td>\n",
       "      <td>4.95</td>\n",
       "      <td>14441.0</td>\n",
       "      <td>United Kingdom</td>\n",
       "      <td>20</td>\n",
       "    </tr>\n",
       "    <tr>\n",
       "      <th>2</th>\n",
       "      <td>2011-12-07 12:55:00</td>\n",
       "      <td>581132</td>\n",
       "      <td>NaN</td>\n",
       "      <td>NaN</td>\n",
       "      <td>4.0</td>\n",
       "      <td>2011-12-07 12:55:00</td>\n",
       "      <td>4.95</td>\n",
       "      <td>17590.0</td>\n",
       "      <td>United Kingdom</td>\n",
       "      <td>1</td>\n",
       "    </tr>\n",
       "    <tr>\n",
       "      <th>3</th>\n",
       "      <td>2011-06-23 14:11:00</td>\n",
       "      <td>557892</td>\n",
       "      <td>NaN</td>\n",
       "      <td>NaN</td>\n",
       "      <td>2.0</td>\n",
       "      <td>2011-06-23 14:11:00</td>\n",
       "      <td>6.35</td>\n",
       "      <td>14534.0</td>\n",
       "      <td>United Kingdom</td>\n",
       "      <td>17</td>\n",
       "    </tr>\n",
       "    <tr>\n",
       "      <th>4</th>\n",
       "      <td>2011-01-25 14:01:00</td>\n",
       "      <td>542115</td>\n",
       "      <td>84992</td>\n",
       "      <td>NaN</td>\n",
       "      <td>1.0</td>\n",
       "      <td>2011-01-25 14:01:00</td>\n",
       "      <td>2.08</td>\n",
       "      <td>NaN</td>\n",
       "      <td>United Kingdom</td>\n",
       "      <td>6</td>\n",
       "    </tr>\n",
       "    <tr>\n",
       "      <th>5</th>\n",
       "      <td>2011-12-01 11:51:00</td>\n",
       "      <td>580024</td>\n",
       "      <td>35964</td>\n",
       "      <td>NaN</td>\n",
       "      <td>36.0</td>\n",
       "      <td>2011-12-01 11:51:00</td>\n",
       "      <td>0.39</td>\n",
       "      <td>15172.0</td>\n",
       "      <td>United Kingdom</td>\n",
       "      <td>32</td>\n",
       "    </tr>\n",
       "    <tr>\n",
       "      <th>6</th>\n",
       "      <td>2011-01-27 10:30:00</td>\n",
       "      <td>542277</td>\n",
       "      <td>21754</td>\n",
       "      <td>NaN</td>\n",
       "      <td>9.0</td>\n",
       "      <td>2011-01-27 10:30:00</td>\n",
       "      <td>5.95</td>\n",
       "      <td>14440.0</td>\n",
       "      <td>United Kingdom</td>\n",
       "      <td>9</td>\n",
       "    </tr>\n",
       "    <tr>\n",
       "      <th>7</th>\n",
       "      <td>2011-03-08 12:30:00</td>\n",
       "      <td>545979</td>\n",
       "      <td>NaN</td>\n",
       "      <td>RED RETROSPOT CHARLOTTE BAG</td>\n",
       "      <td>4.0</td>\n",
       "      <td>2011-03-08 12:30:00</td>\n",
       "      <td>0.85</td>\n",
       "      <td>12748.0</td>\n",
       "      <td>United Kingdom</td>\n",
       "      <td>3</td>\n",
       "    </tr>\n",
       "    <tr>\n",
       "      <th>8</th>\n",
       "      <td>2011-03-04 10:24:00</td>\n",
       "      <td>545590</td>\n",
       "      <td>21703</td>\n",
       "      <td>BAG 125g SWIRLY MARBLES</td>\n",
       "      <td>12.0</td>\n",
       "      <td>2011-03-04 10:24:00</td>\n",
       "      <td>0.42</td>\n",
       "      <td>15220.0</td>\n",
       "      <td>United Kingdom</td>\n",
       "      <td>15</td>\n",
       "    </tr>\n",
       "    <tr>\n",
       "      <th>9</th>\n",
       "      <td>2011-04-04 15:54:00</td>\n",
       "      <td>548893</td>\n",
       "      <td>22811</td>\n",
       "      <td>NaN</td>\n",
       "      <td>1.0</td>\n",
       "      <td>2011-04-04 15:54:00</td>\n",
       "      <td>5.79</td>\n",
       "      <td>NaN</td>\n",
       "      <td>United Kingdom</td>\n",
       "      <td>2</td>\n",
       "    </tr>\n",
       "  </tbody>\n",
       "</table>\n",
       "</div>"
      ],
      "text/plain": [
       "           InvoiceDate InvoiceNo StockCode                       Description  \\\n",
       "0  2010-12-09 15:43:00   C538124     22699  ROSES REGENCY TEACUP AND SAUCER    \n",
       "1  2011-12-09 09:07:00    581480     23355        HOT WATER BOTTLE KEEP CALM   \n",
       "2  2011-12-07 12:55:00    581132       NaN                               NaN   \n",
       "3  2011-06-23 14:11:00    557892       NaN                               NaN   \n",
       "4  2011-01-25 14:01:00    542115     84992                               NaN   \n",
       "5  2011-12-01 11:51:00    580024     35964                               NaN   \n",
       "6  2011-01-27 10:30:00    542277     21754                               NaN   \n",
       "7  2011-03-08 12:30:00    545979       NaN       RED RETROSPOT CHARLOTTE BAG   \n",
       "8  2011-03-04 10:24:00    545590     21703           BAG 125g SWIRLY MARBLES   \n",
       "9  2011-04-04 15:54:00    548893     22811                               NaN   \n",
       "\n",
       "   Quantity        InvoiceDate.1  UnitPrice  CustomerID         Country  \\\n",
       "0      -1.0  2010-12-09 15:43:00       2.95     15329.0  United Kingdom   \n",
       "1      12.0  2011-12-09 09:07:00       4.95     14441.0  United Kingdom   \n",
       "2       4.0  2011-12-07 12:55:00       4.95     17590.0  United Kingdom   \n",
       "3       2.0  2011-06-23 14:11:00       6.35     14534.0  United Kingdom   \n",
       "4       1.0  2011-01-25 14:01:00       2.08         NaN  United Kingdom   \n",
       "5      36.0  2011-12-01 11:51:00       0.39     15172.0  United Kingdom   \n",
       "6       9.0  2011-01-27 10:30:00       5.95     14440.0  United Kingdom   \n",
       "7       4.0  2011-03-08 12:30:00       0.85     12748.0  United Kingdom   \n",
       "8      12.0  2011-03-04 10:24:00       0.42     15220.0  United Kingdom   \n",
       "9       1.0  2011-04-04 15:54:00       5.79         NaN  United Kingdom   \n",
       "\n",
       "   EstoreID  \n",
       "0        20  \n",
       "1        20  \n",
       "2         1  \n",
       "3        17  \n",
       "4         6  \n",
       "5        32  \n",
       "6         9  \n",
       "7         3  \n",
       "8        15  \n",
       "9         2  "
      ]
     },
     "execution_count": 4,
     "metadata": {},
     "output_type": "execute_result"
    }
   ],
   "source": [
    "# rename column Estore_id EstoreID for constistency\n",
    "data = data.rename(columns={\"Estore_id\": \"EstoreID\"})\n",
    "data.head(10)"
   ]
  },
  {
   "cell_type": "code",
   "execution_count": 5,
   "id": "ff3948f4-d702-4eaa-9cca-9eb3cf0961bd",
   "metadata": {},
   "outputs": [
    {
     "data": {
      "text/html": [
       "<div>\n",
       "<style scoped>\n",
       "    .dataframe tbody tr th:only-of-type {\n",
       "        vertical-align: middle;\n",
       "    }\n",
       "\n",
       "    .dataframe tbody tr th {\n",
       "        vertical-align: top;\n",
       "    }\n",
       "\n",
       "    .dataframe thead th {\n",
       "        text-align: right;\n",
       "    }\n",
       "</style>\n",
       "<table border=\"1\" class=\"dataframe\">\n",
       "  <thead>\n",
       "    <tr style=\"text-align: right;\">\n",
       "      <th></th>\n",
       "      <th>Quantity</th>\n",
       "      <th>UnitPrice</th>\n",
       "      <th>CustomerID</th>\n",
       "      <th>EstoreID</th>\n",
       "    </tr>\n",
       "  </thead>\n",
       "  <tbody>\n",
       "    <tr>\n",
       "      <th>count</th>\n",
       "      <td>10426.000000</td>\n",
       "      <td>130000.000000</td>\n",
       "      <td>125418.000000</td>\n",
       "      <td>130000.000000</td>\n",
       "    </tr>\n",
       "    <tr>\n",
       "      <th>mean</th>\n",
       "      <td>11.338673</td>\n",
       "      <td>4.538586</td>\n",
       "      <td>13253.560358</td>\n",
       "      <td>16.508677</td>\n",
       "    </tr>\n",
       "    <tr>\n",
       "      <th>std</th>\n",
       "      <td>69.476431</td>\n",
       "      <td>32.374397</td>\n",
       "      <td>1363.410277</td>\n",
       "      <td>9.223470</td>\n",
       "    </tr>\n",
       "    <tr>\n",
       "      <th>min</th>\n",
       "      <td>-3167.000000</td>\n",
       "      <td>0.000000</td>\n",
       "      <td>12349.000000</td>\n",
       "      <td>1.000000</td>\n",
       "    </tr>\n",
       "    <tr>\n",
       "      <th>25%</th>\n",
       "      <td>1.000000</td>\n",
       "      <td>1.250000</td>\n",
       "      <td>12438.000000</td>\n",
       "      <td>9.000000</td>\n",
       "    </tr>\n",
       "    <tr>\n",
       "      <th>50%</th>\n",
       "      <td>4.000000</td>\n",
       "      <td>1.950000</td>\n",
       "      <td>12597.000000</td>\n",
       "      <td>17.000000</td>\n",
       "    </tr>\n",
       "    <tr>\n",
       "      <th>75%</th>\n",
       "      <td>12.000000</td>\n",
       "      <td>3.750000</td>\n",
       "      <td>13505.000000</td>\n",
       "      <td>24.000000</td>\n",
       "    </tr>\n",
       "    <tr>\n",
       "      <th>max</th>\n",
       "      <td>2400.000000</td>\n",
       "      <td>4161.060000</td>\n",
       "      <td>18287.000000</td>\n",
       "      <td>32.000000</td>\n",
       "    </tr>\n",
       "  </tbody>\n",
       "</table>\n",
       "</div>"
      ],
      "text/plain": [
       "           Quantity      UnitPrice     CustomerID       EstoreID\n",
       "count  10426.000000  130000.000000  125418.000000  130000.000000\n",
       "mean      11.338673       4.538586   13253.560358      16.508677\n",
       "std       69.476431      32.374397    1363.410277       9.223470\n",
       "min    -3167.000000       0.000000   12349.000000       1.000000\n",
       "25%        1.000000       1.250000   12438.000000       9.000000\n",
       "50%        4.000000       1.950000   12597.000000      17.000000\n",
       "75%       12.000000       3.750000   13505.000000      24.000000\n",
       "max     2400.000000    4161.060000   18287.000000      32.000000"
      ]
     },
     "execution_count": 5,
     "metadata": {},
     "output_type": "execute_result"
    }
   ],
   "source": [
    "data.describe()"
   ]
  },
  {
   "cell_type": "markdown",
   "id": "8f49fdc2-1570-4b35-982e-0fee92f78589",
   "metadata": {},
   "source": [
    "- The data has 130.000 entries and 10 variables\n",
    "- There are a lot of **missing values**. It might be possible to restore them from other available information (e.g. StockCode and Description should have a 1-1 relationship). If for a variable there are too many missing values that cannot be inferred the information becomes useless and then it's better to drop the variable. \n",
    "- Quantity has a min and max that differ greatly from the rest of the values, possible **outliers**.\n",
    "- It looks like there is a **redundant column**, InvoiceDate.1. Check if is actually redundant and if so remove it. \n",
    "- The data has information for each single transaction  with no apparent order. I expect that there might be several items with the same invoice number (InvoiceNo) belonging to the same order as well as copies of the same invoice. Check if true."
   ]
  },
  {
   "cell_type": "markdown",
   "id": "802bb1fd-aafe-47c4-9b1b-0e062ee7ae42",
   "metadata": {},
   "source": [
    "#### Redundant information\n",
    "There are two columns InvoiceDate and InvoiceDate.1 that looks identical. Let's check if they actually are. If so, we can drop 'InvoiceDate.1'."
   ]
  },
  {
   "cell_type": "code",
   "execution_count": 6,
   "id": "b9a92f0a-42d8-4608-aa9d-bd68114164e7",
   "metadata": {},
   "outputs": [
    {
     "name": "stdout",
     "output_type": "stream",
     "text": [
      "identical\n"
     ]
    }
   ],
   "source": [
    "comparison_column = np.where(data['InvoiceDate'] == data['InvoiceDate.1'], 1, 0)\n",
    "\n",
    "if 0 in comparison_column:\n",
    "    print('not identical')\n",
    "else:\n",
    "    print('identical')\n",
    "    \n",
    "data = data.drop(['InvoiceDate.1'], axis=1)"
   ]
  },
  {
   "cell_type": "code",
   "execution_count": 7,
   "id": "9593e764-f8b1-4f3b-95cf-a1038b5c0917",
   "metadata": {},
   "outputs": [
    {
     "data": {
      "text/html": [
       "<div>\n",
       "<style scoped>\n",
       "    .dataframe tbody tr th:only-of-type {\n",
       "        vertical-align: middle;\n",
       "    }\n",
       "\n",
       "    .dataframe tbody tr th {\n",
       "        vertical-align: top;\n",
       "    }\n",
       "\n",
       "    .dataframe thead th {\n",
       "        text-align: right;\n",
       "    }\n",
       "</style>\n",
       "<table border=\"1\" class=\"dataframe\">\n",
       "  <thead>\n",
       "    <tr style=\"text-align: right;\">\n",
       "      <th></th>\n",
       "      <th>InvoiceDate</th>\n",
       "      <th>InvoiceNo</th>\n",
       "      <th>StockCode</th>\n",
       "      <th>Description</th>\n",
       "      <th>Quantity</th>\n",
       "      <th>UnitPrice</th>\n",
       "      <th>CustomerID</th>\n",
       "      <th>Country</th>\n",
       "      <th>EstoreID</th>\n",
       "    </tr>\n",
       "  </thead>\n",
       "  <tbody>\n",
       "    <tr>\n",
       "      <th>0</th>\n",
       "      <td>2010-12-09 15:43:00</td>\n",
       "      <td>C538124</td>\n",
       "      <td>22699</td>\n",
       "      <td>ROSES REGENCY TEACUP AND SAUCER</td>\n",
       "      <td>-1.0</td>\n",
       "      <td>2.95</td>\n",
       "      <td>15329.0</td>\n",
       "      <td>United Kingdom</td>\n",
       "      <td>20</td>\n",
       "    </tr>\n",
       "    <tr>\n",
       "      <th>1</th>\n",
       "      <td>2011-12-09 09:07:00</td>\n",
       "      <td>581480</td>\n",
       "      <td>23355</td>\n",
       "      <td>HOT WATER BOTTLE KEEP CALM</td>\n",
       "      <td>12.0</td>\n",
       "      <td>4.95</td>\n",
       "      <td>14441.0</td>\n",
       "      <td>United Kingdom</td>\n",
       "      <td>20</td>\n",
       "    </tr>\n",
       "    <tr>\n",
       "      <th>2</th>\n",
       "      <td>2011-12-07 12:55:00</td>\n",
       "      <td>581132</td>\n",
       "      <td>NaN</td>\n",
       "      <td>NaN</td>\n",
       "      <td>4.0</td>\n",
       "      <td>4.95</td>\n",
       "      <td>17590.0</td>\n",
       "      <td>United Kingdom</td>\n",
       "      <td>1</td>\n",
       "    </tr>\n",
       "    <tr>\n",
       "      <th>3</th>\n",
       "      <td>2011-06-23 14:11:00</td>\n",
       "      <td>557892</td>\n",
       "      <td>NaN</td>\n",
       "      <td>NaN</td>\n",
       "      <td>2.0</td>\n",
       "      <td>6.35</td>\n",
       "      <td>14534.0</td>\n",
       "      <td>United Kingdom</td>\n",
       "      <td>17</td>\n",
       "    </tr>\n",
       "    <tr>\n",
       "      <th>4</th>\n",
       "      <td>2011-01-25 14:01:00</td>\n",
       "      <td>542115</td>\n",
       "      <td>84992</td>\n",
       "      <td>NaN</td>\n",
       "      <td>1.0</td>\n",
       "      <td>2.08</td>\n",
       "      <td>NaN</td>\n",
       "      <td>United Kingdom</td>\n",
       "      <td>6</td>\n",
       "    </tr>\n",
       "  </tbody>\n",
       "</table>\n",
       "</div>"
      ],
      "text/plain": [
       "           InvoiceDate InvoiceNo StockCode                       Description  \\\n",
       "0  2010-12-09 15:43:00   C538124     22699  ROSES REGENCY TEACUP AND SAUCER    \n",
       "1  2011-12-09 09:07:00    581480     23355        HOT WATER BOTTLE KEEP CALM   \n",
       "2  2011-12-07 12:55:00    581132       NaN                               NaN   \n",
       "3  2011-06-23 14:11:00    557892       NaN                               NaN   \n",
       "4  2011-01-25 14:01:00    542115     84992                               NaN   \n",
       "\n",
       "   Quantity  UnitPrice  CustomerID         Country  EstoreID  \n",
       "0      -1.0       2.95     15329.0  United Kingdom        20  \n",
       "1      12.0       4.95     14441.0  United Kingdom        20  \n",
       "2       4.0       4.95     17590.0  United Kingdom         1  \n",
       "3       2.0       6.35     14534.0  United Kingdom        17  \n",
       "4       1.0       2.08         NaN  United Kingdom         6  "
      ]
     },
     "execution_count": 7,
     "metadata": {},
     "output_type": "execute_result"
    }
   ],
   "source": [
    "data.head()"
   ]
  },
  {
   "cell_type": "code",
   "execution_count": 8,
   "id": "05001bf2-383f-48be-902b-bd8f0a2e63e6",
   "metadata": {},
   "outputs": [
    {
     "name": "stdout",
     "output_type": "stream",
     "text": [
      "How many duplicate entries? 30818\n"
     ]
    },
    {
     "data": {
      "text/html": [
       "<div>\n",
       "<style scoped>\n",
       "    .dataframe tbody tr th:only-of-type {\n",
       "        vertical-align: middle;\n",
       "    }\n",
       "\n",
       "    .dataframe tbody tr th {\n",
       "        vertical-align: top;\n",
       "    }\n",
       "\n",
       "    .dataframe thead th {\n",
       "        text-align: right;\n",
       "    }\n",
       "</style>\n",
       "<table border=\"1\" class=\"dataframe\">\n",
       "  <thead>\n",
       "    <tr style=\"text-align: right;\">\n",
       "      <th></th>\n",
       "      <th>InvoiceDate</th>\n",
       "      <th>InvoiceNo</th>\n",
       "      <th>StockCode</th>\n",
       "      <th>Description</th>\n",
       "      <th>Quantity</th>\n",
       "      <th>UnitPrice</th>\n",
       "      <th>CustomerID</th>\n",
       "      <th>Country</th>\n",
       "      <th>EstoreID</th>\n",
       "    </tr>\n",
       "  </thead>\n",
       "  <tbody>\n",
       "    <tr>\n",
       "      <th>623</th>\n",
       "      <td>2011-11-25 14:25:00</td>\n",
       "      <td>578827</td>\n",
       "      <td>NaN</td>\n",
       "      <td>NaN</td>\n",
       "      <td>NaN</td>\n",
       "      <td>5.79</td>\n",
       "      <td>NaN</td>\n",
       "      <td>United Kingdom</td>\n",
       "      <td>32</td>\n",
       "    </tr>\n",
       "    <tr>\n",
       "      <th>1146</th>\n",
       "      <td>2011-07-18 15:56:00</td>\n",
       "      <td>560434</td>\n",
       "      <td>NaN</td>\n",
       "      <td>NaN</td>\n",
       "      <td>NaN</td>\n",
       "      <td>0.83</td>\n",
       "      <td>NaN</td>\n",
       "      <td>United Kingdom</td>\n",
       "      <td>5</td>\n",
       "    </tr>\n",
       "    <tr>\n",
       "      <th>1202</th>\n",
       "      <td>2011-11-18 15:59:00</td>\n",
       "      <td>577358</td>\n",
       "      <td>NaN</td>\n",
       "      <td>NaN</td>\n",
       "      <td>NaN</td>\n",
       "      <td>1.63</td>\n",
       "      <td>NaN</td>\n",
       "      <td>United Kingdom</td>\n",
       "      <td>18</td>\n",
       "    </tr>\n",
       "    <tr>\n",
       "      <th>2035</th>\n",
       "      <td>2011-09-02 09:38:00</td>\n",
       "      <td>565234</td>\n",
       "      <td>NaN</td>\n",
       "      <td>NaN</td>\n",
       "      <td>1.0</td>\n",
       "      <td>0.83</td>\n",
       "      <td>NaN</td>\n",
       "      <td>United Kingdom</td>\n",
       "      <td>2</td>\n",
       "    </tr>\n",
       "    <tr>\n",
       "      <th>3716</th>\n",
       "      <td>2011-09-22 13:31:00</td>\n",
       "      <td>567853</td>\n",
       "      <td>NaN</td>\n",
       "      <td>NaN</td>\n",
       "      <td>NaN</td>\n",
       "      <td>1.25</td>\n",
       "      <td>15484.0</td>\n",
       "      <td>United Kingdom</td>\n",
       "      <td>25</td>\n",
       "    </tr>\n",
       "    <tr>\n",
       "      <th>...</th>\n",
       "      <td>...</td>\n",
       "      <td>...</td>\n",
       "      <td>...</td>\n",
       "      <td>...</td>\n",
       "      <td>...</td>\n",
       "      <td>...</td>\n",
       "      <td>...</td>\n",
       "      <td>...</td>\n",
       "      <td>...</td>\n",
       "    </tr>\n",
       "    <tr>\n",
       "      <th>129991</th>\n",
       "      <td>2011-07-06 14:17:00</td>\n",
       "      <td>559145</td>\n",
       "      <td>NaN</td>\n",
       "      <td>NaN</td>\n",
       "      <td>NaN</td>\n",
       "      <td>4.95</td>\n",
       "      <td>17404.0</td>\n",
       "      <td>Sweden</td>\n",
       "      <td>19</td>\n",
       "    </tr>\n",
       "    <tr>\n",
       "      <th>129992</th>\n",
       "      <td>2011-08-25 15:22:00</td>\n",
       "      <td>564539</td>\n",
       "      <td>NaN</td>\n",
       "      <td>NaN</td>\n",
       "      <td>NaN</td>\n",
       "      <td>1.65</td>\n",
       "      <td>12715.0</td>\n",
       "      <td>Sweden</td>\n",
       "      <td>20</td>\n",
       "    </tr>\n",
       "    <tr>\n",
       "      <th>129993</th>\n",
       "      <td>2011-11-06 13:11:00</td>\n",
       "      <td>574690</td>\n",
       "      <td>NaN</td>\n",
       "      <td>NaN</td>\n",
       "      <td>NaN</td>\n",
       "      <td>3.75</td>\n",
       "      <td>12638.0</td>\n",
       "      <td>Sweden</td>\n",
       "      <td>12</td>\n",
       "    </tr>\n",
       "    <tr>\n",
       "      <th>129997</th>\n",
       "      <td>2011-11-18 16:17:00</td>\n",
       "      <td>C577363</td>\n",
       "      <td>NaN</td>\n",
       "      <td>NaN</td>\n",
       "      <td>NaN</td>\n",
       "      <td>2.89</td>\n",
       "      <td>12697.0</td>\n",
       "      <td>Sweden</td>\n",
       "      <td>16</td>\n",
       "    </tr>\n",
       "    <tr>\n",
       "      <th>129998</th>\n",
       "      <td>2011-05-12 12:36:00</td>\n",
       "      <td>552957</td>\n",
       "      <td>NaN</td>\n",
       "      <td>NaN</td>\n",
       "      <td>NaN</td>\n",
       "      <td>0.85</td>\n",
       "      <td>17404.0</td>\n",
       "      <td>Sweden</td>\n",
       "      <td>17</td>\n",
       "    </tr>\n",
       "  </tbody>\n",
       "</table>\n",
       "<p>30818 rows × 9 columns</p>\n",
       "</div>"
      ],
      "text/plain": [
       "                InvoiceDate InvoiceNo StockCode Description  Quantity  \\\n",
       "623     2011-11-25 14:25:00    578827       NaN         NaN       NaN   \n",
       "1146    2011-07-18 15:56:00    560434       NaN         NaN       NaN   \n",
       "1202    2011-11-18 15:59:00    577358       NaN         NaN       NaN   \n",
       "2035    2011-09-02 09:38:00    565234       NaN         NaN       1.0   \n",
       "3716    2011-09-22 13:31:00    567853       NaN         NaN       NaN   \n",
       "...                     ...       ...       ...         ...       ...   \n",
       "129991  2011-07-06 14:17:00    559145       NaN         NaN       NaN   \n",
       "129992  2011-08-25 15:22:00    564539       NaN         NaN       NaN   \n",
       "129993  2011-11-06 13:11:00    574690       NaN         NaN       NaN   \n",
       "129997  2011-11-18 16:17:00   C577363       NaN         NaN       NaN   \n",
       "129998  2011-05-12 12:36:00    552957       NaN         NaN       NaN   \n",
       "\n",
       "        UnitPrice  CustomerID         Country  EstoreID  \n",
       "623          5.79         NaN  United Kingdom        32  \n",
       "1146         0.83         NaN  United Kingdom         5  \n",
       "1202         1.63         NaN  United Kingdom        18  \n",
       "2035         0.83         NaN  United Kingdom         2  \n",
       "3716         1.25     15484.0  United Kingdom        25  \n",
       "...           ...         ...             ...       ...  \n",
       "129991       4.95     17404.0          Sweden        19  \n",
       "129992       1.65     12715.0          Sweden        20  \n",
       "129993       3.75     12638.0          Sweden        12  \n",
       "129997       2.89     12697.0          Sweden        16  \n",
       "129998       0.85     17404.0          Sweden        17  \n",
       "\n",
       "[30818 rows x 9 columns]"
      ]
     },
     "execution_count": 8,
     "metadata": {},
     "output_type": "execute_result"
    }
   ],
   "source": [
    "print('How many duplicate entries? {}'.format(data.duplicated().sum()))\n",
    "data[data.duplicated()]"
   ]
  },
  {
   "cell_type": "markdown",
   "id": "75e34eda-62a3-44a9-828e-03fcd44d71ea",
   "metadata": {},
   "source": [
    "There are a 30.818 rows that are duplicates. Let's drop them."
   ]
  },
  {
   "cell_type": "code",
   "execution_count": 9,
   "id": "72206525-db7b-4184-81ba-175022444137",
   "metadata": {},
   "outputs": [
    {
     "data": {
      "text/plain": [
       "99182"
      ]
     },
     "execution_count": 9,
     "metadata": {},
     "output_type": "execute_result"
    }
   ],
   "source": [
    "data.drop_duplicates(inplace = True)\n",
    "data.shape[0]"
   ]
  },
  {
   "cell_type": "markdown",
   "id": "c61d0b15-ea39-4c0f-955d-9b958b046002",
   "metadata": {},
   "source": [
    "After removing the duplicates we are left with 99.182 unique entries."
   ]
  },
  {
   "cell_type": "markdown",
   "id": "fbf3d327-3c58-4631-8d89-83ff3c4729bc",
   "metadata": {},
   "source": [
    "#### Missing values"
   ]
  },
  {
   "cell_type": "code",
   "execution_count": 10,
   "id": "b6747380-6821-4445-b2b4-e78476a3a8f7",
   "metadata": {},
   "outputs": [
    {
     "data": {
      "text/plain": [
       "InvoiceDate        0\n",
       "InvoiceNo          0\n",
       "StockCode      92573\n",
       "Description    95496\n",
       "Quantity       88884\n",
       "UnitPrice          0\n",
       "CustomerID      4252\n",
       "Country            0\n",
       "EstoreID           0\n",
       "dtype: int64"
      ]
     },
     "execution_count": 10,
     "metadata": {},
     "output_type": "execute_result"
    }
   ],
   "source": [
    "# Count missing values in the dataset\n",
    "data.isnull().sum()"
   ]
  },
  {
   "cell_type": "code",
   "execution_count": 11,
   "id": "18298116-ece4-4106-a9ae-73bdc90568d7",
   "metadata": {},
   "outputs": [
    {
     "data": {
      "text/plain": [
       "InvoiceDate     0.000000\n",
       "InvoiceNo       0.000000\n",
       "StockCode      93.336493\n",
       "Description    96.283600\n",
       "Quantity       89.617068\n",
       "UnitPrice       0.000000\n",
       "CustomerID      4.287068\n",
       "Country         0.000000\n",
       "EstoreID        0.000000\n",
       "dtype: float64"
      ]
     },
     "execution_count": 11,
     "metadata": {},
     "output_type": "execute_result"
    }
   ],
   "source": [
    "missing_percentage = data.isna().sum() / data.shape[0] * 100\n",
    "missing_percentage"
   ]
  },
  {
   "cell_type": "markdown",
   "id": "107e5919-2156-4fe6-8ce6-2658ed1fb244",
   "metadata": {},
   "source": [
    "- The percentage of missing values for StockCode, Description and quantity are so high that it's better to discard these variables for the general analysis.  We can provide additional information related to these variables based on limited data, and that can still be valuable to the client.  \n",
    "- Since only 4.29 % of the CustomerID values is missing, we can just drop the entries without CustomerID when focusing on the customer behavior analysis. We will just drop the variable CustomerID when it's not of interest."
   ]
  },
  {
   "cell_type": "markdown",
   "id": "00b6f5d1-975b-453c-9f4f-b3d80624d823",
   "metadata": {},
   "source": [
    "#### StockCode and Description"
   ]
  },
  {
   "cell_type": "code",
   "execution_count": 12,
   "id": "c02891f7-340c-4959-a1b7-9a16e17f7331",
   "metadata": {},
   "outputs": [
    {
     "name": "stdout",
     "output_type": "stream",
     "text": [
      "For  7693 entries we have at least StockCode or Description\n",
      "For  91489 entries we do not have neither StockCode nor Description\n"
     ]
    }
   ],
   "source": [
    "print('For ',sum(data['StockCode'].notna() | data['Description'].notna()), 'entries we have at least StockCode or Description')\n",
    "print('For ',sum(data['StockCode'].isna() & data['Description'].isna()), 'entries we do not have neither StockCode nor Description')"
   ]
  },
  {
   "cell_type": "markdown",
   "id": "7bbf1c82-a330-48fd-b58a-f1a22d378369",
   "metadata": {},
   "source": [
    "We have at least StockCode or Description only for 7732 entries, for which we can recover the missing one if there is at least an entry that has them both.\n",
    "\n",
    "Is Description unique for each Stockcode?"
   ]
  },
  {
   "cell_type": "code",
   "execution_count": 13,
   "id": "1629d6b0-1806-407b-8c78-f9f4f22ddc7c",
   "metadata": {},
   "outputs": [
    {
     "data": {
      "text/plain": [
       "StockCode\n",
       "23203    3\n",
       "23283    2\n",
       "23209    2\n",
       "23240    2\n",
       "82486    2\n",
       "23534    2\n",
       "84946    2\n",
       "23188    2\n",
       "85103    2\n",
       "22776    2\n",
       "Name: Description, dtype: int64"
      ]
     },
     "execution_count": 13,
     "metadata": {},
     "output_type": "execute_result"
    }
   ],
   "source": [
    "data.groupby('StockCode').Description.nunique().sort_values(ascending=False).iloc[0:10]"
   ]
  },
  {
   "cell_type": "markdown",
   "id": "50de3706-4da9-445d-bcdf-b3e6500e8067",
   "metadata": {},
   "source": [
    "There can be 2 or 3 different descriptions for the same StockCode. Let's look at at a couple of examples."
   ]
  },
  {
   "cell_type": "code",
   "execution_count": 14,
   "id": "4c6c0708-0e26-41c9-adf4-784ab3f4f5b7",
   "metadata": {},
   "outputs": [
    {
     "data": {
      "text/plain": [
       "JUMBO BAG VINTAGE DOILY      6\n",
       "JUMBO BAG DOILEY PATTERNS    1\n",
       "JUMBO BAG VINTAGE DOILEY     1\n",
       "Name: Description, dtype: int64"
      ]
     },
     "execution_count": 14,
     "metadata": {},
     "output_type": "execute_result"
    }
   ],
   "source": [
    "data.loc[data.StockCode == '23203'].Description.value_counts()"
   ]
  },
  {
   "cell_type": "code",
   "execution_count": 15,
   "id": "e68c36cc-555f-467c-8711-f401ff463a0c",
   "metadata": {},
   "outputs": [
    {
     "data": {
      "text/plain": [
       "WOOD S/3 CABINET ANT WHITE FINISH      5\n",
       "3 DRAWER ANTIQUE WHITE WOOD CABINET    2\n",
       "Name: Description, dtype: int64"
      ]
     },
     "execution_count": 15,
     "metadata": {},
     "output_type": "execute_result"
    }
   ],
   "source": [
    "data.loc[data.StockCode == '82486'].Description.value_counts()"
   ]
  },
  {
   "cell_type": "markdown",
   "id": "987080cb-3cee-4489-bb7d-5fb3986e74e0",
   "metadata": {},
   "source": [
    "#### Stores\n",
    "How many stores and how many entries for each stores?"
   ]
  },
  {
   "cell_type": "code",
   "execution_count": 16,
   "id": "e10f1b6a-4b7e-45e1-9de8-66a938f75830",
   "metadata": {},
   "outputs": [
    {
     "name": "stdout",
     "output_type": "stream",
     "text": [
      "There are 32 stores\n"
     ]
    },
    {
     "data": {
      "image/png": "[encoded data removed]",
      "text/plain": [
       "<Figure size 576x144 with 1 Axes>"
      ]
     },
     "metadata": {
      "needs_background": "light"
     },
     "output_type": "display_data"
    }
   ],
   "source": [
    "mean_invoices_store = data['EstoreID'].value_counts().mean()\n",
    "print('There are', data.EstoreID.nunique(), 'stores')\n",
    "data['EstoreID'].value_counts().plot(kind='bar',figsize=(8, 2))\n",
    "plt.axhline(y=mean_invoices_store, color='r', linestyle='--')\n",
    "#plt.savefig('estores_entries.png', dpi=300, bbox_inches=\"tight\")\n",
    "plt.show()"
   ]
  },
  {
   "cell_type": "markdown",
   "id": "eae7ab59-5586-4ffe-91a2-9186f11d45a1",
   "metadata": {},
   "source": [
    "Roughly 3000 entries for each store. "
   ]
  },
  {
   "cell_type": "markdown",
   "id": "0a0e30c4-15ed-4999-8f2e-1082cae940d3",
   "metadata": {},
   "source": [
    "#### Countries\n",
    "From which countries the orders come and how many entries for each country?"
   ]
  },
  {
   "cell_type": "code",
   "execution_count": 17,
   "id": "c2d71ee7-c12d-4761-a340-1c1c9d6e1b69",
   "metadata": {},
   "outputs": [
    {
     "name": "stdout",
     "output_type": "stream",
     "text": [
      "There are 13 countries\n"
     ]
    },
    {
     "data": {
      "text/plain": [
       "United Kingdom    9979\n",
       "Germany           9397\n",
       "France            9331\n",
       "EIRE              9324\n",
       "Spain             7990\n",
       "Belgium           7944\n",
       "Netherlands       7588\n",
       "Switzerland       6892\n",
       "Portugal          6632\n",
       "Australia         6507\n",
       "Norway            6256\n",
       "Italy             6024\n",
       "Sweden            5318\n",
       "Name: Country, dtype: int64"
      ]
     },
     "execution_count": 17,
     "metadata": {},
     "output_type": "execute_result"
    }
   ],
   "source": [
    "print('There are', data.Country.nunique(), 'countries')\n",
    "data['Country'].value_counts()"
   ]
  },
  {
   "cell_type": "markdown",
   "id": "f320164b-42d8-44a0-ae12-811be501cd5c",
   "metadata": {},
   "source": [
    "Most entries are from UK, Germany, France, and EIRE. All the countries are in Europe, except Australia. \n",
    "\n",
    "Do the orders for each store come from all the countries or some stores are more present in specific countries?"
   ]
  },
  {
   "cell_type": "code",
   "execution_count": 18,
   "id": "b5fe478e-bfd8-4f4f-86c0-e476b3e903a8",
   "metadata": {},
   "outputs": [
    {
     "name": "stdout",
     "output_type": "stream",
     "text": [
      "The maximum number of invoices from a country for one e-store is 343\n",
      "The minimum number of invoices from a country for one e-store is 149\n"
     ]
    }
   ],
   "source": [
    "print('The maximum number of invoices from a country for one e-store is', data.groupby(['EstoreID','Country']).size().max())\n",
    "print('The minimum number of invoices from a country for one e-store is', data.groupby(['EstoreID','Country']).size().min())"
   ]
  },
  {
   "cell_type": "markdown",
   "id": "9bdabc75-7ec6-4bbf-bf2d-fce19866e3ca",
   "metadata": {},
   "source": [
    "Each e-store receive orders from each of the 13 countries, issuing between 149 and 343 invoices for each country. This means that each e-store is selling in a comparable way in each country."
   ]
  },
  {
   "cell_type": "markdown",
   "id": "cc95fdba-cd80-485a-b301-b963d64d0940",
   "metadata": {},
   "source": [
    "#### Time period \n",
    "How long is the time period covered by the dataset?"
   ]
  },
  {
   "cell_type": "code",
   "execution_count": 19,
   "id": "16a59fdc-5d45-450b-8de0-dcb05d8a53ae",
   "metadata": {},
   "outputs": [
    {
     "name": "stdout",
     "output_type": "stream",
     "text": [
      "373 days 04:05:00\n"
     ]
    }
   ],
   "source": [
    "data['InvoiceDate'] = pd.to_datetime(data.InvoiceDate, cache=True)\n",
    "print(data.InvoiceDate.max() - data.InvoiceDate.min())"
   ]
  },
  {
   "cell_type": "code",
   "execution_count": 20,
   "id": "823d3133-8d22-44a0-a1e0-49351cd495c0",
   "metadata": {},
   "outputs": [
    {
     "name": "stdout",
     "output_type": "stream",
     "text": [
      "Datafile starts with timepoint 2010-12-01 08:45:00\n",
      "Datafile ends with timepoint 2011-12-09 12:50:00\n"
     ]
    }
   ],
   "source": [
    "print('Datafile starts with timepoint {}'.format(data.InvoiceDate.min()))\n",
    "print('Datafile ends with timepoint {}'.format(data.InvoiceDate.max()))"
   ]
  },
  {
   "cell_type": "markdown",
   "id": "7b30efb5-a753-4bde-93ea-576a96b85956",
   "metadata": {},
   "source": [
    "#### Invoice number\n",
    "How many different invoice numbers?"
   ]
  },
  {
   "cell_type": "code",
   "execution_count": 21,
   "id": "2f259a7b-c9fd-48f4-bd9d-557599751bb0",
   "metadata": {},
   "outputs": [
    {
     "data": {
      "text/plain": [
       "7837"
      ]
     },
     "execution_count": 21,
     "metadata": {},
     "output_type": "execute_result"
    }
   ],
   "source": [
    "data.InvoiceNo.nunique()"
   ]
  },
  {
   "cell_type": "markdown",
   "id": "71ced273-c7e5-4688-870d-4e5b5c8ce8c2",
   "metadata": {},
   "source": [
    "Since the amount of unique invoice numbers is much lower than the entries, most invoice numbers are repeated for several entries (i.e. one order contains several items and they all share the same InvoiceNo). "
   ]
  },
  {
   "cell_type": "markdown",
   "id": "1f3ba77f-6453-48cc-ac8b-f7fa13472841",
   "metadata": {},
   "source": [
    "#### Cancelled transactions\n",
    "Cancelled transactions (or returns) are characterized by having an InvoiceNo starting with a \"C\" and a negative value at the Quantity variable."
   ]
  },
  {
   "cell_type": "code",
   "execution_count": 22,
   "id": "e1818211-53e5-421e-a047-122d0dd213e9",
   "metadata": {},
   "outputs": [
    {
     "data": {
      "text/plain": [
       "False    97.174891\n",
       "True      2.825109\n",
       "Name: Cancelled, dtype: float64"
      ]
     },
     "execution_count": 22,
     "metadata": {},
     "output_type": "execute_result"
    }
   ],
   "source": [
    "data['Cancelled']=np.where(data.InvoiceNo.apply(lambda l: l[0]=='C'), True, False)\n",
    "data.Cancelled.value_counts() / data.shape[0] * 100"
   ]
  },
  {
   "cell_type": "markdown",
   "id": "7e4d56c5-0c81-43a1-9a31-a642554ff781",
   "metadata": {},
   "source": [
    "2.82 % of all entries are cancelled orders. Is there a correspondant entry for each cancelled order? If so, when predicting sales we should remove both the cancellation and the original order."
   ]
  },
  {
   "cell_type": "code",
   "execution_count": 23,
   "id": "fa840acf-985c-478b-bde0-e65518886462",
   "metadata": {},
   "outputs": [],
   "source": [
    "data_clean = data.copy()\n",
    "\n",
    "cancelled_orders = []; \n",
    "\n",
    "for v in data.InvoiceNo:\n",
    "    if 'c' in v.lower():\n",
    "        cancelled_orders.append(v[1:])\n",
    "\n",
    "orders_to_remove = [];        \n",
    "for v in data.InvoiceNo:\n",
    "    if v in cancelled_orders:\n",
    "        orders_to_remove.append(v)\n"
   ]
  },
  {
   "cell_type": "code",
   "execution_count": 24,
   "id": "e04d6fc2-dd15-42f6-853a-fd4e93127795",
   "metadata": {},
   "outputs": [
    {
     "name": "stdout",
     "output_type": "stream",
     "text": [
      "2802\n",
      "0\n"
     ]
    }
   ],
   "source": [
    "print(len(cancelled_orders))\n",
    "print(len(orders_to_remove))"
   ]
  },
  {
   "cell_type": "markdown",
   "id": "15f68854-12b1-4066-b979-d81214eec279",
   "metadata": {},
   "source": [
    "The original orders corresponding to the cancelled orders are not in the dataset."
   ]
  },
  {
   "cell_type": "markdown",
   "id": "143b1a42-852e-4179-b81e-cfa2f2acae25",
   "metadata": {},
   "source": [
    "#### Stockcodes\n",
    "How many stockcodes are there and which codes are most common?"
   ]
  },
  {
   "cell_type": "code",
   "execution_count": 25,
   "id": "dc8aa688-17fd-4dae-ac02-98234a7d92a2",
   "metadata": {},
   "outputs": [
    {
     "data": {
      "text/plain": [
       "count    1992.000000\n",
       "mean        3.317771\n",
       "std         4.131311\n",
       "min         1.000000\n",
       "25%         1.000000\n",
       "50%         2.000000\n",
       "75%         4.000000\n",
       "max        80.000000\n",
       "Name: StockCode, dtype: float64"
      ]
     },
     "execution_count": 25,
     "metadata": {},
     "output_type": "execute_result"
    }
   ],
   "source": [
    "data['StockCode'].value_counts().describe()"
   ]
  },
  {
   "cell_type": "code",
   "execution_count": 26,
   "id": "ff940ad3-527a-452d-b70e-fc629d37951f",
   "metadata": {},
   "outputs": [
    {
     "name": "stdout",
     "output_type": "stream",
     "text": [
      "There are 1992 different stock codes.\n",
      "Each stock code appears at least 1 time, and maximumum 80 times.\n",
      "On average each code appears 3.3177710843373496 times.\n",
      "The median is 2.0 times.\n"
     ]
    }
   ],
   "source": [
    "print('There are',data.StockCode.nunique(),'different stock codes.')\n",
    "mean_invoices_stock = data['StockCode'].value_counts().mean()\n",
    "print('Each stock code appears at least',data['StockCode'].value_counts().min(),'time, and maximumum',data['StockCode'].value_counts().max(), 'times.')\n",
    "print('On average each code appears',mean_invoices_stock,'times.')\n",
    "print('The median is',data['StockCode'].value_counts().median(),'times.')"
   ]
  },
  {
   "cell_type": "code",
   "execution_count": 27,
   "id": "a523d777-c923-4ae5-94c4-42016f98d8a5",
   "metadata": {},
   "outputs": [
    {
     "data": {
      "image/png": "[encoded data removed]",
      "text/plain": [
       "<Figure size 1440x288 with 1 Axes>"
      ]
     },
     "metadata": {
      "needs_background": "light"
     },
     "output_type": "display_data"
    }
   ],
   "source": [
    "data['StockCode'].value_counts()[:100].plot(kind='bar',figsize=(20, 4))\n",
    "plt.axhline(y=mean_invoices_stock, color='r', linestyle='--')\n",
    "plt.show()"
   ]
  },
  {
   "cell_type": "markdown",
   "id": "82e695ad-6e6e-4f59-9a56-60815f92d1fc",
   "metadata": {
    "tags": []
   },
   "source": [
    "  "
   ]
  },
  {
   "cell_type": "markdown",
   "id": "fbd2e003-544f-4fa2-b373-87b075aec9e9",
   "metadata": {},
   "source": [
    "Are the most ordered items also the most cancelled? Maybe there are certain items that are returned more often than kept, so the shop could consider eliminating them from their catalogue. "
   ]
  },
  {
   "cell_type": "code",
   "execution_count": 28,
   "id": "c9700505-72c3-46df-846d-847cfbb668c1",
   "metadata": {},
   "outputs": [
    {
     "data": {
      "text/plain": [
       "StockCode\n",
       "M         33\n",
       "22423     17\n",
       "POST      12\n",
       "47594A     9\n",
       "22960      9\n",
       "23298      9\n",
       "22962      8\n",
       "D          8\n",
       "22553      7\n",
       "22325      7\n",
       "dtype: int64"
      ]
     },
     "execution_count": 28,
     "metadata": {},
     "output_type": "execute_result"
    }
   ],
   "source": [
    "data.loc[data.Cancelled==True].groupby(['StockCode']).size().sort_values(ascending=False).iloc[0:10]"
   ]
  },
  {
   "cell_type": "markdown",
   "id": "ee0c7473-0c1e-4e8c-908f-94501581f394",
   "metadata": {},
   "source": [
    "#### Quantity"
   ]
  },
  {
   "cell_type": "code",
   "execution_count": 29,
   "id": "3809d8a2-5b64-4c6c-baa4-7f3ec77c0e1b",
   "metadata": {},
   "outputs": [
    {
     "name": "stdout",
     "output_type": "stream",
     "text": [
      "Min quantity: -3167.0  Max quantity: 2400.0\n"
     ]
    }
   ],
   "source": [
    "print('Min quantity:',data.Quantity.min(),' Max quantity:',data.Quantity.max())"
   ]
  },
  {
   "cell_type": "code",
   "execution_count": 30,
   "id": "ed922bd9-a947-4712-a9e0-0594b9b982f0",
   "metadata": {},
   "outputs": [
    {
     "data": {
      "text/plain": [
       "count    10298.000000\n",
       "mean        11.184987\n",
       "std         67.678009\n",
       "min      -3167.000000\n",
       "25%          1.000000\n",
       "50%          4.000000\n",
       "75%         12.000000\n",
       "max       2400.000000\n",
       "Name: Quantity, dtype: float64"
      ]
     },
     "execution_count": 30,
     "metadata": {},
     "output_type": "execute_result"
    }
   ],
   "source": [
    "data.Quantity.describe()"
   ]
  },
  {
   "cell_type": "code",
   "execution_count": 31,
   "id": "9ddb0053-9c28-496c-9792-5ab9adba8eb5",
   "metadata": {},
   "outputs": [
    {
     "data": {
      "text/plain": [
       "130"
      ]
     },
     "execution_count": 31,
     "metadata": {},
     "output_type": "execute_result"
    }
   ],
   "source": [
    "data.Quantity.nunique()"
   ]
  },
  {
   "cell_type": "code",
   "execution_count": 32,
   "id": "9683417a-c60f-4847-bd20-a1c65069df99",
   "metadata": {},
   "outputs": [
    {
     "data": {
      "text/plain": [
       " 1.0      2170\n",
       " 2.0      1293\n",
       " 12.0     1251\n",
       " 6.0       803\n",
       " 4.0       677\n",
       "          ... \n",
       "-140.0       1\n",
       " 34.0        1\n",
       "-39.0        1\n",
       " 56.0        1\n",
       " 480.0       1\n",
       "Name: Quantity, Length: 130, dtype: int64"
      ]
     },
     "execution_count": 32,
     "metadata": {},
     "output_type": "execute_result"
    }
   ],
   "source": [
    "data.Quantity.value_counts().sort_values(ascending=False)"
   ]
  },
  {
   "cell_type": "code",
   "execution_count": 33,
   "id": "30fd3d79-4e62-4124-a496-dee70727203c",
   "metadata": {},
   "outputs": [
    {
     "name": "stdout",
     "output_type": "stream",
     "text": [
      "We can compute the revenue only for 9387 entries, that is 9.46441894698635 % of the data\n"
     ]
    }
   ],
   "source": [
    "pos_quant = data.loc[data.Quantity > 0]\n",
    "print('We can compute the revenue only for',pos_quant.shape[0],'entries, that is',pos_quant.shape[0]/ data.shape[0] * 100, '% of the data')"
   ]
  },
  {
   "cell_type": "code",
   "execution_count": 34,
   "id": "ad263e43-d5f6-4387-baf3-9c5533d75167",
   "metadata": {},
   "outputs": [
    {
     "data": {
      "text/plain": [
       "0"
      ]
     },
     "execution_count": 34,
     "metadata": {},
     "output_type": "execute_result"
    }
   ],
   "source": [
    "zero_quant = data.loc[data.Quantity == 0] \n",
    "zero_quant.shape[0] # no entries with quantity == 0"
   ]
  },
  {
   "cell_type": "code",
   "execution_count": 35,
   "id": "8c6f5d3f-8114-497a-9925-f5a5f0f08da6",
   "metadata": {},
   "outputs": [
    {
     "data": {
      "text/html": [
       "<div>\n",
       "<style scoped>\n",
       "    .dataframe tbody tr th:only-of-type {\n",
       "        vertical-align: middle;\n",
       "    }\n",
       "\n",
       "    .dataframe tbody tr th {\n",
       "        vertical-align: top;\n",
       "    }\n",
       "\n",
       "    .dataframe thead th {\n",
       "        text-align: right;\n",
       "    }\n",
       "</style>\n",
       "<table border=\"1\" class=\"dataframe\">\n",
       "  <thead>\n",
       "    <tr style=\"text-align: right;\">\n",
       "      <th></th>\n",
       "      <th>InvoiceDate</th>\n",
       "      <th>InvoiceNo</th>\n",
       "      <th>StockCode</th>\n",
       "      <th>Description</th>\n",
       "      <th>Quantity</th>\n",
       "      <th>UnitPrice</th>\n",
       "      <th>CustomerID</th>\n",
       "      <th>Country</th>\n",
       "      <th>EstoreID</th>\n",
       "      <th>Cancelled</th>\n",
       "    </tr>\n",
       "  </thead>\n",
       "  <tbody>\n",
       "    <tr>\n",
       "      <th>0</th>\n",
       "      <td>2010-12-09 15:43:00</td>\n",
       "      <td>C538124</td>\n",
       "      <td>22699</td>\n",
       "      <td>ROSES REGENCY TEACUP AND SAUCER</td>\n",
       "      <td>-1.0</td>\n",
       "      <td>2.95</td>\n",
       "      <td>15329.0</td>\n",
       "      <td>United Kingdom</td>\n",
       "      <td>20</td>\n",
       "      <td>True</td>\n",
       "    </tr>\n",
       "    <tr>\n",
       "      <th>72</th>\n",
       "      <td>2011-05-17 15:24:00</td>\n",
       "      <td>C553536</td>\n",
       "      <td>NaN</td>\n",
       "      <td>NaN</td>\n",
       "      <td>-2.0</td>\n",
       "      <td>8.15</td>\n",
       "      <td>14051.0</td>\n",
       "      <td>United Kingdom</td>\n",
       "      <td>15</td>\n",
       "      <td>True</td>\n",
       "    </tr>\n",
       "    <tr>\n",
       "      <th>175</th>\n",
       "      <td>2011-02-22 14:56:00</td>\n",
       "      <td>C544665</td>\n",
       "      <td>NaN</td>\n",
       "      <td>NaN</td>\n",
       "      <td>-2.0</td>\n",
       "      <td>2.95</td>\n",
       "      <td>12852.0</td>\n",
       "      <td>United Kingdom</td>\n",
       "      <td>11</td>\n",
       "      <td>True</td>\n",
       "    </tr>\n",
       "    <tr>\n",
       "      <th>332</th>\n",
       "      <td>2011-03-14 12:19:00</td>\n",
       "      <td>C546511</td>\n",
       "      <td>22801</td>\n",
       "      <td>ANTIQUE GLASS PEDESTAL BOWL</td>\n",
       "      <td>-1.0</td>\n",
       "      <td>3.75</td>\n",
       "      <td>12921.0</td>\n",
       "      <td>United Kingdom</td>\n",
       "      <td>3</td>\n",
       "      <td>True</td>\n",
       "    </tr>\n",
       "    <tr>\n",
       "      <th>426</th>\n",
       "      <td>2010-12-09 15:13:00</td>\n",
       "      <td>C538103</td>\n",
       "      <td>NaN</td>\n",
       "      <td>NaN</td>\n",
       "      <td>-2.0</td>\n",
       "      <td>8.50</td>\n",
       "      <td>17442.0</td>\n",
       "      <td>United Kingdom</td>\n",
       "      <td>23</td>\n",
       "      <td>True</td>\n",
       "    </tr>\n",
       "  </tbody>\n",
       "</table>\n",
       "</div>"
      ],
      "text/plain": [
       "            InvoiceDate InvoiceNo StockCode                       Description  \\\n",
       "0   2010-12-09 15:43:00   C538124     22699  ROSES REGENCY TEACUP AND SAUCER    \n",
       "72  2011-05-17 15:24:00   C553536       NaN                               NaN   \n",
       "175 2011-02-22 14:56:00   C544665       NaN                               NaN   \n",
       "332 2011-03-14 12:19:00   C546511     22801       ANTIQUE GLASS PEDESTAL BOWL   \n",
       "426 2010-12-09 15:13:00   C538103       NaN                               NaN   \n",
       "\n",
       "     Quantity  UnitPrice  CustomerID         Country  EstoreID  Cancelled  \n",
       "0        -1.0       2.95     15329.0  United Kingdom        20       True  \n",
       "72       -2.0       8.15     14051.0  United Kingdom        15       True  \n",
       "175      -2.0       2.95     12852.0  United Kingdom        11       True  \n",
       "332      -1.0       3.75     12921.0  United Kingdom         3       True  \n",
       "426      -2.0       8.50     17442.0  United Kingdom        23       True  "
      ]
     },
     "execution_count": 35,
     "metadata": {},
     "output_type": "execute_result"
    }
   ],
   "source": [
    "neg_quant = data.loc[data.Quantity < 0]\n",
    "neg_quant.head()"
   ]
  },
  {
   "cell_type": "code",
   "execution_count": 36,
   "id": "7a5a98cd-e210-4b2e-9bdf-d242e2250090",
   "metadata": {},
   "outputs": [
    {
     "data": {
      "text/plain": [
       "911"
      ]
     },
     "execution_count": 36,
     "metadata": {},
     "output_type": "execute_result"
    }
   ],
   "source": [
    "neg_quant.shape[0]"
   ]
  },
  {
   "cell_type": "markdown",
   "id": "e0ef2925-a7c5-4bdd-ad9b-aacdd4240cb9",
   "metadata": {},
   "source": [
    "911 entries with negative quantities. How many are cancelled orders?"
   ]
  },
  {
   "cell_type": "code",
   "execution_count": 37,
   "id": "2baeb3cc-078d-46dd-b7e4-4b16e6a82b7d",
   "metadata": {},
   "outputs": [
    {
     "data": {
      "text/plain": [
       "890"
      ]
     },
     "execution_count": 37,
     "metadata": {},
     "output_type": "execute_result"
    }
   ],
   "source": [
    "returns = data.loc[(data.Cancelled==True) & (data.Quantity < 0)]\n",
    "returns.shape[0] # 890"
   ]
  },
  {
   "cell_type": "code",
   "execution_count": 38,
   "id": "679eee28-88a3-4977-8f47-94171b179943",
   "metadata": {},
   "outputs": [
    {
     "data": {
      "text/plain": [
       "0"
      ]
     },
     "execution_count": 38,
     "metadata": {},
     "output_type": "execute_result"
    }
   ],
   "source": [
    "weird = data.loc[(data.Cancelled==True) & (data.Quantity > 0)]\n",
    "weird.shape[0] "
   ]
  },
  {
   "cell_type": "markdown",
   "id": "6fd9388d-ed4d-4801-9b81-1b427436b417",
   "metadata": {},
   "source": [
    "890 of this 911 entries with negative quantities are cancelled orders or returns. The others must contain errors. At least there are no cancelled orders with quantity > 0. \n",
    "\n",
    "Let's look at the entries with positive quantity."
   ]
  },
  {
   "cell_type": "code",
   "execution_count": 39,
   "id": "c8725d4e-a6db-4f72-bf4e-21ea48c377f9",
   "metadata": {},
   "outputs": [
    {
     "name": "stdout",
     "output_type": "stream",
     "text": [
      "Min quantity is 1.0\n",
      "Total 89 possible values\n"
     ]
    }
   ],
   "source": [
    "data_quantity = data.loc[data.Quantity > 0].copy()\n",
    "data_quantity.drop(['Cancelled'],axis=1,inplace=True)\n",
    "\n",
    "print('Min quantity is', data_quantity.Quantity.min())\n",
    "print('Total', data_quantity.Quantity.nunique(), 'possible values')"
   ]
  },
  {
   "cell_type": "code",
   "execution_count": 40,
   "id": "b4c6a798-df9d-457e-bcef-737e55cf1705",
   "metadata": {},
   "outputs": [
    {
     "data": {
      "text/plain": [
       "<AxesSubplot:>"
      ]
     },
     "execution_count": 40,
     "metadata": {},
     "output_type": "execute_result"
    },
    {
     "data": {
      "image/png": "[encoded data removed]",
      "text/plain": [
       "<Figure size 1440x288 with 1 Axes>"
      ]
     },
     "metadata": {
      "needs_background": "light"
     },
     "output_type": "display_data"
    }
   ],
   "source": [
    "# this plot works only with a large screen\n",
    "data_quantity['Quantity'].value_counts().sort_index().plot(kind='bar',figsize=(20, 4))"
   ]
  },
  {
   "cell_type": "code",
   "execution_count": 41,
   "id": "a33e95c6-210e-49ff-bd93-9c9a47515176",
   "metadata": {},
   "outputs": [
    {
     "data": {
      "text/plain": [
       "<AxesSubplot:>"
      ]
     },
     "execution_count": 41,
     "metadata": {},
     "output_type": "execute_result"
    },
    {
     "data": {
      "image/png": "[encoded data removed]",
      "text/plain": [
       "<Figure size 720x144 with 1 Axes>"
      ]
     },
     "metadata": {
      "needs_background": "light"
     },
     "output_type": "display_data"
    }
   ],
   "source": [
    "data_quantity['Quantity'].value_counts()[:100].plot(kind='bar',figsize=(10, 2))"
   ]
  },
  {
   "cell_type": "code",
   "execution_count": 42,
   "id": "0bccf1c1-757b-4845-bf7a-b0023db04a49",
   "metadata": {},
   "outputs": [
    {
     "data": {
      "image/png": "[encoded data removed]",
      "text/plain": [
       "<Figure size 432x288 with 1 Axes>"
      ]
     },
     "metadata": {
      "needs_background": "light"
     },
     "output_type": "display_data"
    }
   ],
   "source": [
    "fig, ax = plt.subplots()\n",
    "sns.histplot(np.log(data_quantity.Quantity), ax=ax, bins=20, kde=False, color=\"blue\", alpha=0.2);\n",
    "ax.set_title(\"Log-Quantity distribution\")\n",
    "ax.set_xlabel(\"Natural-Log Quantity\");"
   ]
  },
  {
   "cell_type": "markdown",
   "id": "1f05a77b-3344-4342-9e7d-45c0b27bb0a5",
   "metadata": {},
   "source": [
    "The orders with large amount of a product might be retailers."
   ]
  },
  {
   "cell_type": "markdown",
   "id": "46d6819c-9698-484a-bca9-5534657ae002",
   "metadata": {
    "tags": []
   },
   "source": [
    "#### Customers"
   ]
  },
  {
   "cell_type": "code",
   "execution_count": 43,
   "id": "cabf9895-0222-4564-8910-8e291fc99ece",
   "metadata": {},
   "outputs": [
    {
     "name": "stdout",
     "output_type": "stream",
     "text": [
      "There are 2598 customers\n"
     ]
    },
    {
     "data": {
      "text/plain": [
       "count    2598.000000\n",
       "mean       36.539646\n",
       "std       235.479350\n",
       "min         1.000000\n",
       "25%         1.000000\n",
       "50%         2.000000\n",
       "75%         5.000000\n",
       "max      6716.000000\n",
       "Name: CustomerID, dtype: float64"
      ]
     },
     "execution_count": 43,
     "metadata": {},
     "output_type": "execute_result"
    }
   ],
   "source": [
    "print('There are',data.CustomerID.nunique(),'customers')\n",
    "\n",
    "data['CustomerID'].value_counts().describe()"
   ]
  },
  {
   "cell_type": "code",
   "execution_count": 44,
   "id": "79d11e6d-f6f3-478c-b584-a2d32f134a15",
   "metadata": {},
   "outputs": [
    {
     "data": {
      "image/png": "[encoded data removed]",
      "text/plain": [
       "<Figure size 576x288 with 1 Axes>"
      ]
     },
     "metadata": {
      "needs_background": "light"
     },
     "output_type": "display_data"
    }
   ],
   "source": [
    "customer_counts = data.CustomerID.value_counts().sort_values(ascending=False).iloc[0:20] \n",
    "plt.figure(figsize=(8,4))\n",
    "sns.barplot(x = customer_counts.index, y = customer_counts.values, order = customer_counts.index)\n",
    "plt.ylabel(\"Counts\")\n",
    "plt.xlabel(\"CustomerID\")\n",
    "plt.title(\"Most common customers\");\n",
    "plt.xticks(rotation=90);\n",
    "#plt.savefig('customer_counts.png', dpi=300, bbox_inches=\"tight\")\n",
    "plt.show()"
   ]
  },
  {
   "cell_type": "code",
   "execution_count": 45,
   "id": "f93479e8-cb55-470c-9fc3-ecb37825a14b",
   "metadata": {},
   "outputs": [
    {
     "name": "stdout",
     "output_type": "stream",
     "text": [
      "There are 2598 customers\n"
     ]
    }
   ],
   "source": [
    "print('There are',data.CustomerID.nunique(),'customers')"
   ]
  },
  {
   "cell_type": "code",
   "execution_count": 46,
   "id": "93729bd5-e17b-4bc9-bdc4-8ced4bf935cd",
   "metadata": {},
   "outputs": [
    {
     "data": {
      "text/plain": [
       "count    2598.000000\n",
       "mean       36.539646\n",
       "std       235.479350\n",
       "min         1.000000\n",
       "25%         1.000000\n",
       "50%         2.000000\n",
       "75%         5.000000\n",
       "max      6716.000000\n",
       "Name: CustomerID, dtype: float64"
      ]
     },
     "execution_count": 46,
     "metadata": {},
     "output_type": "execute_result"
    }
   ],
   "source": [
    "data['CustomerID'].value_counts().describe()"
   ]
  },
  {
   "cell_type": "markdown",
   "id": "e37cbabc-89c0-4fbe-8326-1818a44eb88f",
   "metadata": {},
   "source": [
    "### Sales in time\n",
    "We create a copy of the data called data_sales from which we remove the sales with negative quantities (cancelled orders and errors) and drop all the variables with missing values."
   ]
  },
  {
   "cell_type": "code",
   "execution_count": 47,
   "id": "446c8ceb-a82e-4af6-9ef3-04de8886a877",
   "metadata": {},
   "outputs": [
    {
     "data": {
      "text/html": [
       "<div>\n",
       "<style scoped>\n",
       "    .dataframe tbody tr th:only-of-type {\n",
       "        vertical-align: middle;\n",
       "    }\n",
       "\n",
       "    .dataframe tbody tr th {\n",
       "        vertical-align: top;\n",
       "    }\n",
       "\n",
       "    .dataframe thead th {\n",
       "        text-align: right;\n",
       "    }\n",
       "</style>\n",
       "<table border=\"1\" class=\"dataframe\">\n",
       "  <thead>\n",
       "    <tr style=\"text-align: right;\">\n",
       "      <th></th>\n",
       "      <th>InvoiceDate</th>\n",
       "      <th>InvoiceNo</th>\n",
       "      <th>UnitPrice</th>\n",
       "      <th>Country</th>\n",
       "      <th>EstoreID</th>\n",
       "    </tr>\n",
       "  </thead>\n",
       "  <tbody>\n",
       "    <tr>\n",
       "      <th>1</th>\n",
       "      <td>2011-12-09 09:07:00</td>\n",
       "      <td>581480</td>\n",
       "      <td>4.95</td>\n",
       "      <td>United Kingdom</td>\n",
       "      <td>20</td>\n",
       "    </tr>\n",
       "    <tr>\n",
       "      <th>2</th>\n",
       "      <td>2011-12-07 12:55:00</td>\n",
       "      <td>581132</td>\n",
       "      <td>4.95</td>\n",
       "      <td>United Kingdom</td>\n",
       "      <td>1</td>\n",
       "    </tr>\n",
       "    <tr>\n",
       "      <th>3</th>\n",
       "      <td>2011-06-23 14:11:00</td>\n",
       "      <td>557892</td>\n",
       "      <td>6.35</td>\n",
       "      <td>United Kingdom</td>\n",
       "      <td>17</td>\n",
       "    </tr>\n",
       "    <tr>\n",
       "      <th>4</th>\n",
       "      <td>2011-01-25 14:01:00</td>\n",
       "      <td>542115</td>\n",
       "      <td>2.08</td>\n",
       "      <td>United Kingdom</td>\n",
       "      <td>6</td>\n",
       "    </tr>\n",
       "    <tr>\n",
       "      <th>5</th>\n",
       "      <td>2011-12-01 11:51:00</td>\n",
       "      <td>580024</td>\n",
       "      <td>0.39</td>\n",
       "      <td>United Kingdom</td>\n",
       "      <td>32</td>\n",
       "    </tr>\n",
       "  </tbody>\n",
       "</table>\n",
       "</div>"
      ],
      "text/plain": [
       "          InvoiceDate InvoiceNo  UnitPrice         Country  EstoreID\n",
       "1 2011-12-09 09:07:00    581480       4.95  United Kingdom        20\n",
       "2 2011-12-07 12:55:00    581132       4.95  United Kingdom         1\n",
       "3 2011-06-23 14:11:00    557892       6.35  United Kingdom        17\n",
       "4 2011-01-25 14:01:00    542115       2.08  United Kingdom         6\n",
       "5 2011-12-01 11:51:00    580024       0.39  United Kingdom        32"
      ]
     },
     "execution_count": 47,
     "metadata": {},
     "output_type": "execute_result"
    }
   ],
   "source": [
    "data_sales = data.loc[(data.Cancelled==False)&((data.Quantity < 0) == False)].copy()\n",
    "data_sales.drop(['StockCode','Description','Quantity','CustomerID','Cancelled'],axis=1,inplace=True)\n",
    "data_sales.head()"
   ]
  },
  {
   "cell_type": "code",
   "execution_count": 48,
   "id": "84536e61-0410-4319-a772-3b750b72aad0",
   "metadata": {},
   "outputs": [
    {
     "data": {
      "text/plain": [
       "(96359, 5)"
      ]
     },
     "execution_count": 48,
     "metadata": {},
     "output_type": "execute_result"
    }
   ],
   "source": [
    "data_sales.shape # (96359, 5)"
   ]
  },
  {
   "cell_type": "code",
   "execution_count": 49,
   "id": "6ad7d8e6-5140-4e0d-94ab-8734f1ee710c",
   "metadata": {},
   "outputs": [],
   "source": [
    "data_sales['Year'] = data_sales.InvoiceDate.dt.year\n",
    "data_sales['Quarter'] = data_sales.InvoiceDate.dt.quarter\n",
    "data_sales['Month'] = data_sales.InvoiceDate.dt.month\n",
    "data_sales['Week'] = data_sales.InvoiceDate.dt.isocalendar().week\n",
    "data_sales['Weekday'] = data_sales.InvoiceDate.dt.weekday\n",
    "data_sales['Day'] = data_sales.InvoiceDate.dt.day\n",
    "data_sales['Dayofyear'] = data_sales.InvoiceDate.dt.dayofyear\n",
    "data_sales['Hour'] = data_sales.InvoiceDate.dt.hour\n",
    "data_sales['Date'] = pd.to_datetime(data_sales[['Year', 'Month', 'Day']])"
   ]
  },
  {
   "cell_type": "code",
   "execution_count": 50,
   "id": "27b647a5-9b6f-4165-aff6-03a71d4f42bf",
   "metadata": {},
   "outputs": [
    {
     "data": {
      "text/html": [
       "<div>\n",
       "<style scoped>\n",
       "    .dataframe tbody tr th:only-of-type {\n",
       "        vertical-align: middle;\n",
       "    }\n",
       "\n",
       "    .dataframe tbody tr th {\n",
       "        vertical-align: top;\n",
       "    }\n",
       "\n",
       "    .dataframe thead th {\n",
       "        text-align: right;\n",
       "    }\n",
       "</style>\n",
       "<table border=\"1\" class=\"dataframe\">\n",
       "  <thead>\n",
       "    <tr style=\"text-align: right;\">\n",
       "      <th></th>\n",
       "      <th>InvoiceDate</th>\n",
       "      <th>InvoiceNo</th>\n",
       "      <th>UnitPrice</th>\n",
       "      <th>Country</th>\n",
       "      <th>EstoreID</th>\n",
       "      <th>Year</th>\n",
       "      <th>Quarter</th>\n",
       "      <th>Month</th>\n",
       "      <th>Week</th>\n",
       "      <th>Weekday</th>\n",
       "      <th>Day</th>\n",
       "      <th>Dayofyear</th>\n",
       "      <th>Hour</th>\n",
       "      <th>Date</th>\n",
       "    </tr>\n",
       "  </thead>\n",
       "  <tbody>\n",
       "    <tr>\n",
       "      <th>1</th>\n",
       "      <td>2011-12-09 09:07:00</td>\n",
       "      <td>581480</td>\n",
       "      <td>4.95</td>\n",
       "      <td>United Kingdom</td>\n",
       "      <td>20</td>\n",
       "      <td>2011</td>\n",
       "      <td>4</td>\n",
       "      <td>12</td>\n",
       "      <td>49</td>\n",
       "      <td>4</td>\n",
       "      <td>9</td>\n",
       "      <td>343</td>\n",
       "      <td>9</td>\n",
       "      <td>2011-12-09</td>\n",
       "    </tr>\n",
       "    <tr>\n",
       "      <th>2</th>\n",
       "      <td>2011-12-07 12:55:00</td>\n",
       "      <td>581132</td>\n",
       "      <td>4.95</td>\n",
       "      <td>United Kingdom</td>\n",
       "      <td>1</td>\n",
       "      <td>2011</td>\n",
       "      <td>4</td>\n",
       "      <td>12</td>\n",
       "      <td>49</td>\n",
       "      <td>2</td>\n",
       "      <td>7</td>\n",
       "      <td>341</td>\n",
       "      <td>12</td>\n",
       "      <td>2011-12-07</td>\n",
       "    </tr>\n",
       "    <tr>\n",
       "      <th>3</th>\n",
       "      <td>2011-06-23 14:11:00</td>\n",
       "      <td>557892</td>\n",
       "      <td>6.35</td>\n",
       "      <td>United Kingdom</td>\n",
       "      <td>17</td>\n",
       "      <td>2011</td>\n",
       "      <td>2</td>\n",
       "      <td>6</td>\n",
       "      <td>25</td>\n",
       "      <td>3</td>\n",
       "      <td>23</td>\n",
       "      <td>174</td>\n",
       "      <td>14</td>\n",
       "      <td>2011-06-23</td>\n",
       "    </tr>\n",
       "    <tr>\n",
       "      <th>4</th>\n",
       "      <td>2011-01-25 14:01:00</td>\n",
       "      <td>542115</td>\n",
       "      <td>2.08</td>\n",
       "      <td>United Kingdom</td>\n",
       "      <td>6</td>\n",
       "      <td>2011</td>\n",
       "      <td>1</td>\n",
       "      <td>1</td>\n",
       "      <td>4</td>\n",
       "      <td>1</td>\n",
       "      <td>25</td>\n",
       "      <td>25</td>\n",
       "      <td>14</td>\n",
       "      <td>2011-01-25</td>\n",
       "    </tr>\n",
       "    <tr>\n",
       "      <th>5</th>\n",
       "      <td>2011-12-01 11:51:00</td>\n",
       "      <td>580024</td>\n",
       "      <td>0.39</td>\n",
       "      <td>United Kingdom</td>\n",
       "      <td>32</td>\n",
       "      <td>2011</td>\n",
       "      <td>4</td>\n",
       "      <td>12</td>\n",
       "      <td>48</td>\n",
       "      <td>3</td>\n",
       "      <td>1</td>\n",
       "      <td>335</td>\n",
       "      <td>11</td>\n",
       "      <td>2011-12-01</td>\n",
       "    </tr>\n",
       "  </tbody>\n",
       "</table>\n",
       "</div>"
      ],
      "text/plain": [
       "          InvoiceDate InvoiceNo  UnitPrice         Country  EstoreID  Year  \\\n",
       "1 2011-12-09 09:07:00    581480       4.95  United Kingdom        20  2011   \n",
       "2 2011-12-07 12:55:00    581132       4.95  United Kingdom         1  2011   \n",
       "3 2011-06-23 14:11:00    557892       6.35  United Kingdom        17  2011   \n",
       "4 2011-01-25 14:01:00    542115       2.08  United Kingdom         6  2011   \n",
       "5 2011-12-01 11:51:00    580024       0.39  United Kingdom        32  2011   \n",
       "\n",
       "   Quarter  Month  Week  Weekday  Day  Dayofyear  Hour       Date  \n",
       "1        4     12    49        4    9        343     9 2011-12-09  \n",
       "2        4     12    49        2    7        341    12 2011-12-07  \n",
       "3        2      6    25        3   23        174    14 2011-06-23  \n",
       "4        1      1     4        1   25         25    14 2011-01-25  \n",
       "5        4     12    48        3    1        335    11 2011-12-01  "
      ]
     },
     "execution_count": 50,
     "metadata": {},
     "output_type": "execute_result"
    }
   ],
   "source": [
    "data_sales.head()"
   ]
  },
  {
   "cell_type": "code",
   "execution_count": 51,
   "id": "b3be6261-aa5d-48f4-afae-39c1f5fd7072",
   "metadata": {},
   "outputs": [
    {
     "data": {
      "image/png": "[encoded data removed]",
      "text/plain": [
       "<Figure size 576x216 with 1 Axes>"
      ]
     },
     "metadata": {
      "needs_background": "light"
     },
     "output_type": "display_data"
    }
   ],
   "source": [
    "fig, ax= plt.subplots(figsize=(8,3))\n",
    "yearmonth = ['Dec 10', 'Jan 11', 'Feb 11', 'Mar 11', 'Apr 11', 'May 11',\n",
    "             'Jun 11', 'Jul 11', 'Aug 11', 'Sep 11', 'Oct 11', 'Nov 11', 'Dec 11']\n",
    "data_sales.groupby([\"Year\", \"Month\"]).count().plot(ax= ax, marker='o', legend= False, c=\"royalblue\");\n",
    "ax.set_xticks(np.arange(0, len(yearmonth)))\n",
    "ax.set_xticklabels(yearmonth, rotation=45)\n",
    "ax.set_xlabel('')\n",
    "ax.set_title('Total invoices per month');\n",
    "\n",
    "#plt.savefig('invoices_month.png', dpi=300, bbox_inches=\"tight\")\n",
    "plt.show()"
   ]
  },
  {
   "cell_type": "markdown",
   "id": "4de997ce-eaca-4228-862b-e153894c4aec",
   "metadata": {},
   "source": [
    "Keep in mind that for Dec-2011 we have just 9 days.\n",
    "\n",
    "Let's remove those 9 days from the dataframe data_sales and use them to compare them with the same days in Dec-2010."
   ]
  },
  {
   "cell_type": "code",
   "execution_count": 52,
   "id": "aec609a7-bd7b-4b17-94d5-b2daa8569e45",
   "metadata": {},
   "outputs": [
    {
     "name": "stdout",
     "output_type": "stream",
     "text": [
      "There are 3342 entries for the first 9 days of December 2011\n"
     ]
    },
    {
     "data": {
      "text/html": [
       "<div>\n",
       "<style scoped>\n",
       "    .dataframe tbody tr th:only-of-type {\n",
       "        vertical-align: middle;\n",
       "    }\n",
       "\n",
       "    .dataframe tbody tr th {\n",
       "        vertical-align: top;\n",
       "    }\n",
       "\n",
       "    .dataframe thead th {\n",
       "        text-align: right;\n",
       "    }\n",
       "</style>\n",
       "<table border=\"1\" class=\"dataframe\">\n",
       "  <thead>\n",
       "    <tr style=\"text-align: right;\">\n",
       "      <th></th>\n",
       "      <th>InvoiceDate</th>\n",
       "      <th>InvoiceNo</th>\n",
       "      <th>UnitPrice</th>\n",
       "      <th>Country</th>\n",
       "      <th>EstoreID</th>\n",
       "      <th>Year</th>\n",
       "      <th>Quarter</th>\n",
       "      <th>Month</th>\n",
       "      <th>Week</th>\n",
       "      <th>Weekday</th>\n",
       "      <th>Day</th>\n",
       "      <th>Dayofyear</th>\n",
       "      <th>Hour</th>\n",
       "      <th>Date</th>\n",
       "    </tr>\n",
       "  </thead>\n",
       "  <tbody>\n",
       "    <tr>\n",
       "      <th>1</th>\n",
       "      <td>2011-12-09 09:07:00</td>\n",
       "      <td>581480</td>\n",
       "      <td>4.95</td>\n",
       "      <td>United Kingdom</td>\n",
       "      <td>20</td>\n",
       "      <td>2011</td>\n",
       "      <td>4</td>\n",
       "      <td>12</td>\n",
       "      <td>49</td>\n",
       "      <td>4</td>\n",
       "      <td>9</td>\n",
       "      <td>343</td>\n",
       "      <td>9</td>\n",
       "      <td>2011-12-09</td>\n",
       "    </tr>\n",
       "    <tr>\n",
       "      <th>2</th>\n",
       "      <td>2011-12-07 12:55:00</td>\n",
       "      <td>581132</td>\n",
       "      <td>4.95</td>\n",
       "      <td>United Kingdom</td>\n",
       "      <td>1</td>\n",
       "      <td>2011</td>\n",
       "      <td>4</td>\n",
       "      <td>12</td>\n",
       "      <td>49</td>\n",
       "      <td>2</td>\n",
       "      <td>7</td>\n",
       "      <td>341</td>\n",
       "      <td>12</td>\n",
       "      <td>2011-12-07</td>\n",
       "    </tr>\n",
       "    <tr>\n",
       "      <th>5</th>\n",
       "      <td>2011-12-01 11:51:00</td>\n",
       "      <td>580024</td>\n",
       "      <td>0.39</td>\n",
       "      <td>United Kingdom</td>\n",
       "      <td>32</td>\n",
       "      <td>2011</td>\n",
       "      <td>4</td>\n",
       "      <td>12</td>\n",
       "      <td>48</td>\n",
       "      <td>3</td>\n",
       "      <td>1</td>\n",
       "      <td>335</td>\n",
       "      <td>11</td>\n",
       "      <td>2011-12-01</td>\n",
       "    </tr>\n",
       "    <tr>\n",
       "      <th>26</th>\n",
       "      <td>2011-12-06 11:24:00</td>\n",
       "      <td>580808</td>\n",
       "      <td>0.39</td>\n",
       "      <td>United Kingdom</td>\n",
       "      <td>4</td>\n",
       "      <td>2011</td>\n",
       "      <td>4</td>\n",
       "      <td>12</td>\n",
       "      <td>49</td>\n",
       "      <td>1</td>\n",
       "      <td>6</td>\n",
       "      <td>340</td>\n",
       "      <td>11</td>\n",
       "      <td>2011-12-06</td>\n",
       "    </tr>\n",
       "    <tr>\n",
       "      <th>46</th>\n",
       "      <td>2011-12-05 14:40:00</td>\n",
       "      <td>580677</td>\n",
       "      <td>2.49</td>\n",
       "      <td>United Kingdom</td>\n",
       "      <td>25</td>\n",
       "      <td>2011</td>\n",
       "      <td>4</td>\n",
       "      <td>12</td>\n",
       "      <td>49</td>\n",
       "      <td>0</td>\n",
       "      <td>5</td>\n",
       "      <td>339</td>\n",
       "      <td>14</td>\n",
       "      <td>2011-12-05</td>\n",
       "    </tr>\n",
       "  </tbody>\n",
       "</table>\n",
       "</div>"
      ],
      "text/plain": [
       "           InvoiceDate InvoiceNo  UnitPrice         Country  EstoreID  Year  \\\n",
       "1  2011-12-09 09:07:00    581480       4.95  United Kingdom        20  2011   \n",
       "2  2011-12-07 12:55:00    581132       4.95  United Kingdom         1  2011   \n",
       "5  2011-12-01 11:51:00    580024       0.39  United Kingdom        32  2011   \n",
       "26 2011-12-06 11:24:00    580808       0.39  United Kingdom         4  2011   \n",
       "46 2011-12-05 14:40:00    580677       2.49  United Kingdom        25  2011   \n",
       "\n",
       "    Quarter  Month  Week  Weekday  Day  Dayofyear  Hour       Date  \n",
       "1         4     12    49        4    9        343     9 2011-12-09  \n",
       "2         4     12    49        2    7        341    12 2011-12-07  \n",
       "5         4     12    48        3    1        335    11 2011-12-01  \n",
       "26        4     12    49        1    6        340    11 2011-12-06  \n",
       "46        4     12    49        0    5        339    14 2011-12-05  "
      ]
     },
     "execution_count": 52,
     "metadata": {},
     "output_type": "execute_result"
    }
   ],
   "source": [
    "dec2011_sales = data_sales.loc[data_sales['Date'] > pd.to_datetime('2011-11-30')]\n",
    "print('There are', dec2011_sales.shape[0],'entries for the first 9 days of December 2011')\n",
    "dec2011_sales.head()"
   ]
  },
  {
   "cell_type": "code",
   "execution_count": 53,
   "id": "0d41a686-b567-4a4f-bfce-15b1533b8a98",
   "metadata": {},
   "outputs": [
    {
     "name": "stdout",
     "output_type": "stream",
     "text": [
      "There are 2641 entries for the first 9 days of December 2010\n"
     ]
    }
   ],
   "source": [
    "dec2010_sales = data_sales.loc[data_sales['Date'] < pd.to_datetime('2010-12-10')]\n",
    "print('There are', dec2010_sales.shape[0],'entries for the first 9 days of December 2010')"
   ]
  },
  {
   "cell_type": "code",
   "execution_count": 54,
   "id": "afc65ae4-58b0-4415-8faf-79b4db6feb5e",
   "metadata": {},
   "outputs": [],
   "source": [
    "y1 = dec2010_sales.groupby('Day').InvoiceNo.count()\n",
    "y2 = dec2011_sales.groupby('Day').InvoiceNo.count()\n",
    "#print(y1)\n",
    "#print(y2)"
   ]
  },
  {
   "cell_type": "code",
   "execution_count": 55,
   "id": "e56333e5-0871-4d89-9c80-021bdd074740",
   "metadata": {},
   "outputs": [
    {
     "data": {
      "text/plain": [
       "count      8.000000\n",
       "mean     330.125000\n",
       "std      214.825137\n",
       "min       59.000000\n",
       "25%      158.000000\n",
       "50%      313.500000\n",
       "75%      476.750000\n",
       "max      666.000000\n",
       "Name: InvoiceNo, dtype: float64"
      ]
     },
     "execution_count": 55,
     "metadata": {},
     "output_type": "execute_result"
    }
   ],
   "source": [
    "y1.describe()"
   ]
  },
  {
   "cell_type": "code",
   "execution_count": 56,
   "id": "4d06ef3b-4e29-4345-af27-958fdb86e4f3",
   "metadata": {},
   "outputs": [
    {
     "data": {
      "text/plain": [
       "count      8.000000\n",
       "mean     417.750000\n",
       "std      234.752605\n",
       "min      185.000000\n",
       "25%      219.750000\n",
       "50%      372.000000\n",
       "75%      561.750000\n",
       "max      861.000000\n",
       "Name: InvoiceNo, dtype: float64"
      ]
     },
     "execution_count": 56,
     "metadata": {},
     "output_type": "execute_result"
    }
   ],
   "source": [
    "y2.describe()"
   ]
  },
  {
   "cell_type": "code",
   "execution_count": 57,
   "id": "cf688a7d-2403-400a-a7d4-88c84ee6bd55",
   "metadata": {},
   "outputs": [
    {
     "data": {
      "image/png": "[encoded data removed]",
      "text/plain": [
       "<Figure size 432x288 with 1 Axes>"
      ]
     },
     "metadata": {
      "needs_background": "light"
     },
     "output_type": "display_data"
    }
   ],
   "source": [
    "plt.figure(figsize=(6,4))\n",
    "plt.plot(y1, color='r', marker='o', label='Dec-2010')\n",
    "plt.plot(y2, color='g', marker='o', label='Dec-2011')\n",
    "\n",
    "plt.axhline(y=y1.mean(), color='r', linestyle='--')\n",
    "plt.axhline(y=y2.mean(), color='g', linestyle='--')\n",
    "\n",
    "plt.xlabel(\"Days\")\n",
    "plt.ylabel(\"Invoices\")\n",
    "plt.title(\"Comparison December 2010 and December 2011\")\n",
    "\n",
    "plt.legend()\n",
    "#plt.savefig('dec10dec11_increase.png', dpi=300, bbox_inches=\"tight\")\n",
    "plt.show()"
   ]
  },
  {
   "cell_type": "code",
   "execution_count": 58,
   "id": "6cd53b4d-cbd7-4fa2-b3c2-befff25b3e1e",
   "metadata": {},
   "outputs": [
    {
     "name": "stdout",
     "output_type": "stream",
     "text": [
      "The mean value of issued invoices in Dec 2011 is increased of 26.54297614539947 % from December 2010\n"
     ]
    }
   ],
   "source": [
    "print('The mean value of issued invoices in Dec 2011 is increased of',(y2.mean()-y1.mean())/y1.mean() * 100,'% from December 2010')"
   ]
  },
  {
   "cell_type": "markdown",
   "id": "1272c4ce-a7f4-488b-ba78-5798806315a1",
   "metadata": {},
   "source": [
    "Let's get some insights from the sales of the first year (without Dec 2011)."
   ]
  },
  {
   "cell_type": "code",
   "execution_count": 59,
   "id": "bfeb13ba-fb55-41c8-8207-6e1ce2556bec",
   "metadata": {},
   "outputs": [],
   "source": [
    "data_sales = data_sales.loc[data_sales['Date'] < pd.to_datetime('2011-12-01')]"
   ]
  },
  {
   "cell_type": "code",
   "execution_count": 60,
   "id": "97ed4150-28ca-4ed8-a662-f681ff5e8666",
   "metadata": {},
   "outputs": [
    {
     "data": {
      "text/html": [
       "<div>\n",
       "<style scoped>\n",
       "    .dataframe tbody tr th:only-of-type {\n",
       "        vertical-align: middle;\n",
       "    }\n",
       "\n",
       "    .dataframe tbody tr th {\n",
       "        vertical-align: top;\n",
       "    }\n",
       "\n",
       "    .dataframe thead th {\n",
       "        text-align: right;\n",
       "    }\n",
       "</style>\n",
       "<table border=\"1\" class=\"dataframe\">\n",
       "  <thead>\n",
       "    <tr style=\"text-align: right;\">\n",
       "      <th></th>\n",
       "      <th>InvoiceDate</th>\n",
       "      <th>InvoiceNo</th>\n",
       "      <th>UnitPrice</th>\n",
       "      <th>Country</th>\n",
       "      <th>EstoreID</th>\n",
       "      <th>Year</th>\n",
       "      <th>Quarter</th>\n",
       "      <th>Month</th>\n",
       "      <th>Week</th>\n",
       "      <th>Weekday</th>\n",
       "      <th>Day</th>\n",
       "      <th>Dayofyear</th>\n",
       "      <th>Hour</th>\n",
       "      <th>Date</th>\n",
       "    </tr>\n",
       "  </thead>\n",
       "  <tbody>\n",
       "    <tr>\n",
       "      <th>3</th>\n",
       "      <td>2011-06-23 14:11:00</td>\n",
       "      <td>557892</td>\n",
       "      <td>6.35</td>\n",
       "      <td>United Kingdom</td>\n",
       "      <td>17</td>\n",
       "      <td>2011</td>\n",
       "      <td>2</td>\n",
       "      <td>6</td>\n",
       "      <td>25</td>\n",
       "      <td>3</td>\n",
       "      <td>23</td>\n",
       "      <td>174</td>\n",
       "      <td>14</td>\n",
       "      <td>2011-06-23</td>\n",
       "    </tr>\n",
       "    <tr>\n",
       "      <th>4</th>\n",
       "      <td>2011-01-25 14:01:00</td>\n",
       "      <td>542115</td>\n",
       "      <td>2.08</td>\n",
       "      <td>United Kingdom</td>\n",
       "      <td>6</td>\n",
       "      <td>2011</td>\n",
       "      <td>1</td>\n",
       "      <td>1</td>\n",
       "      <td>4</td>\n",
       "      <td>1</td>\n",
       "      <td>25</td>\n",
       "      <td>25</td>\n",
       "      <td>14</td>\n",
       "      <td>2011-01-25</td>\n",
       "    </tr>\n",
       "    <tr>\n",
       "      <th>6</th>\n",
       "      <td>2011-01-27 10:30:00</td>\n",
       "      <td>542277</td>\n",
       "      <td>5.95</td>\n",
       "      <td>United Kingdom</td>\n",
       "      <td>9</td>\n",
       "      <td>2011</td>\n",
       "      <td>1</td>\n",
       "      <td>1</td>\n",
       "      <td>4</td>\n",
       "      <td>3</td>\n",
       "      <td>27</td>\n",
       "      <td>27</td>\n",
       "      <td>10</td>\n",
       "      <td>2011-01-27</td>\n",
       "    </tr>\n",
       "    <tr>\n",
       "      <th>7</th>\n",
       "      <td>2011-03-08 12:30:00</td>\n",
       "      <td>545979</td>\n",
       "      <td>0.85</td>\n",
       "      <td>United Kingdom</td>\n",
       "      <td>3</td>\n",
       "      <td>2011</td>\n",
       "      <td>1</td>\n",
       "      <td>3</td>\n",
       "      <td>10</td>\n",
       "      <td>1</td>\n",
       "      <td>8</td>\n",
       "      <td>67</td>\n",
       "      <td>12</td>\n",
       "      <td>2011-03-08</td>\n",
       "    </tr>\n",
       "    <tr>\n",
       "      <th>8</th>\n",
       "      <td>2011-03-04 10:24:00</td>\n",
       "      <td>545590</td>\n",
       "      <td>0.42</td>\n",
       "      <td>United Kingdom</td>\n",
       "      <td>15</td>\n",
       "      <td>2011</td>\n",
       "      <td>1</td>\n",
       "      <td>3</td>\n",
       "      <td>9</td>\n",
       "      <td>4</td>\n",
       "      <td>4</td>\n",
       "      <td>63</td>\n",
       "      <td>10</td>\n",
       "      <td>2011-03-04</td>\n",
       "    </tr>\n",
       "  </tbody>\n",
       "</table>\n",
       "</div>"
      ],
      "text/plain": [
       "          InvoiceDate InvoiceNo  UnitPrice         Country  EstoreID  Year  \\\n",
       "3 2011-06-23 14:11:00    557892       6.35  United Kingdom        17  2011   \n",
       "4 2011-01-25 14:01:00    542115       2.08  United Kingdom         6  2011   \n",
       "6 2011-01-27 10:30:00    542277       5.95  United Kingdom         9  2011   \n",
       "7 2011-03-08 12:30:00    545979       0.85  United Kingdom         3  2011   \n",
       "8 2011-03-04 10:24:00    545590       0.42  United Kingdom        15  2011   \n",
       "\n",
       "   Quarter  Month  Week  Weekday  Day  Dayofyear  Hour       Date  \n",
       "3        2      6    25        3   23        174    14 2011-06-23  \n",
       "4        1      1     4        1   25         25    14 2011-01-25  \n",
       "6        1      1     4        3   27         27    10 2011-01-27  \n",
       "7        1      3    10        1    8         67    12 2011-03-08  \n",
       "8        1      3     9        4    4         63    10 2011-03-04  "
      ]
     },
     "execution_count": 60,
     "metadata": {},
     "output_type": "execute_result"
    }
   ],
   "source": [
    "data_sales.head()"
   ]
  },
  {
   "cell_type": "code",
   "execution_count": 61,
   "id": "88a918be-fee1-41bb-9aca-9dace8211ef1",
   "metadata": {},
   "outputs": [
    {
     "data": {
      "image/png": "[encoded data removed]",
      "text/plain": [
       "<Figure size 864x216 with 1 Axes>"
      ]
     },
     "metadata": {
      "needs_background": "light"
     },
     "output_type": "display_data"
    }
   ],
   "source": [
    "yearmonth = ['Dec 10', 'Jan 11', 'Feb 11', 'Mar 11', 'Apr 11', 'May 11',\n",
    "             'Jun 11', 'Jul 11', 'Aug 11', 'Sep 11', 'Oct 11', 'Nov 11', 'Dec 11']\n",
    "\n",
    "data_sales.groupby('Date').count().plot(y='InvoiceNo', legend= False, fontsize=15, \n",
    "                                        figsize=(12,3), \n",
    "                                        ylabel='Number of invoices', xlabel='',\n",
    "                                        title=\"Daily invoices\");\n",
    "#plt.savefig('invoices_daily.png', dpi=300, bbox_inches=\"tight\")\n",
    "plt.show()"
   ]
  },
  {
   "cell_type": "code",
   "execution_count": 62,
   "id": "ab724794-12b9-4879-a785-ab2d1ab01a76",
   "metadata": {},
   "outputs": [
    {
     "data": {
      "image/png": "[encoded data removed]",
      "text/plain": [
       "<Figure size 576x216 with 1 Axes>"
      ]
     },
     "metadata": {
      "needs_background": "light"
     },
     "output_type": "display_data"
    }
   ],
   "source": [
    "data_sales.groupby('Week').count().plot(y='InvoiceNo', legend= False, fontsize=15, figsize=(8,3), marker='o',\n",
    "                                        ylabel='Number of invoices',title=\"Total invoices per week\");\n",
    "plt.show()"
   ]
  },
  {
   "cell_type": "code",
   "execution_count": 63,
   "id": "958a8843-bfe5-4d95-9657-19d1446a8eb0",
   "metadata": {},
   "outputs": [
    {
     "data": {
      "image/png": "[encoded data removed]",
      "text/plain": [
       "<Figure size 432x216 with 1 Axes>"
      ]
     },
     "metadata": {
      "needs_background": "light"
     },
     "output_type": "display_data"
    }
   ],
   "source": [
    "fig, ax= plt.subplots(figsize=(6,3))\n",
    "\n",
    "weekdays = ['Monday', 'Tuesday', 'Wednesday', 'Thursday', 'Friday', 'Saturday', 'Sunday']\n",
    "\n",
    "data_sales.groupby(\"Weekday\").InvoiceNo.count().plot(ax=ax,marker='o',color='royalblue',legend= False);\n",
    "ax.set_xticks(np.arange(0,7))\n",
    "ax.set_xticklabels(weekdays);\n",
    "ax.set_xlabel(\"\") \n",
    "ax.set_title(\"Total invoices per weekday\");\n",
    "#plt.savefig('invoices_weeekday.png', dpi=300, bbox_inches=\"tight\")\n",
    "plt.show()"
   ]
  },
  {
   "cell_type": "code",
   "execution_count": 64,
   "id": "986bc9f8-6fa6-4f0e-a00a-534cbdf19cce",
   "metadata": {},
   "outputs": [
    {
     "data": {
      "image/png": "[encoded data removed]",
      "text/plain": [
       "<Figure size 720x288 with 1 Axes>"
      ]
     },
     "metadata": {
      "needs_background": "light"
     },
     "output_type": "display_data"
    }
   ],
   "source": [
    "data_sales.groupby(\"Hour\").count().plot(y='InvoiceNo', kind='bar', legend= False,\n",
    "                                        fontsize=15, figsize=(10,4), xlabel='Hour of the day', ylabel='Number of invoices',\n",
    "                                        title=\"Invoices per hour\");"
   ]
  },
  {
   "cell_type": "markdown",
   "id": "61f7202f-15fc-4a3d-ba3a-4abb551c08da",
   "metadata": {},
   "source": [
    "This insights could be presented as percentages."
   ]
  },
  {
   "cell_type": "code",
   "execution_count": 65,
   "id": "567f4b8e-5c93-4c81-8757-19df1b531aaf",
   "metadata": {},
   "outputs": [
    {
     "data": {
      "image/png": "[encoded data removed]",
      "text/plain": [
       "<Figure size 432x288 with 1 Axes>"
      ]
     },
     "metadata": {
      "needs_background": "light"
     },
     "output_type": "display_data"
    }
   ],
   "source": [
    "fig, axs = plt.subplots(figsize=(6, 4));\n",
    "\n",
    "axs.hist(data_sales['Hour'], bins=13, color='lightblue', edgecolor='tab:blue', density=True)\n",
    "axs.yaxis.set_major_formatter(PercentFormatter(xmax=1))\n",
    "plt.xticks(range(7, 21))\n",
    "plt.ylabel(\"Percentage of sales\")\n",
    "plt.xlabel(\"Hour of the day\")\n",
    "plt.title(\"Sales per hour\");\n",
    "\n",
    "#plt.savefig('hist_hours_sales.png', dpi=300, bbox_inches=\"tight\")"
   ]
  }
 ],
 "metadata": {
  "kernelspec": {
   "display_name": "Python 3 (ipykernel)",
   "language": "python",
   "name": "python3"
  },
  "language_info": {
   "codemirror_mode": {
    "name": "ipython",
    "version": 3
   },
   "file_extension": ".py",
   "mimetype": "text/x-python",
   "name": "python",
   "nbconvert_exporter": "python",
   "pygments_lexer": "ipython3",
   "version": "3.10.0"
  },
  "toc-autonumbering": false,
  "toc-showcode": true,
  "toc-showtags": false
 },
 "nbformat": 4,
 "nbformat_minor": 5
}
